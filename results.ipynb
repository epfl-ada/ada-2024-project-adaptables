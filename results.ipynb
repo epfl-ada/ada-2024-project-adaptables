{
 "cells": [
  {
   "cell_type": "markdown",
   "metadata": {},
   "source": [
    "# A comedy handbook - preliminary results and analysis\n",
    "\n",
    "In this notebook, you will find the preliminary results and code needed for Milestone 2 of the project. This same notebook will be updated for milestone 3 as the project progresses.\n",
    "\n",
    "The goal of this notebook is to showcase the feasability of the approaches mentionned in our report. It also contains a presentation of the various datasets we use, as well as the initial data cleaning and pre-processing done on them. "
   ]
  },
  {
   "cell_type": "markdown",
   "metadata": {},
   "source": [
    "## Imports, constants and data loading"
   ]
  },
  {
   "cell_type": "code",
   "execution_count": 77,
   "metadata": {},
   "outputs": [
    {
     "name": "stdout",
     "output_type": "stream",
     "text": [
      "The autoreload extension is already loaded. To reload it, use:\n",
      "  %reload_ext autoreload\n"
     ]
    }
   ],
   "source": [
    "%load_ext autoreload\n",
    "%autoreload 2\n",
    "%matplotlib inline"
   ]
  },
  {
   "cell_type": "code",
   "execution_count": 78,
   "metadata": {},
   "outputs": [],
   "source": [
    "import pandas as pd\n",
    "import swifter # Looks unused but actually is through Monkey Patching -- don't delete\n",
    "import matplotlib.pyplot as plt\n",
    "import re\n",
    "import geopandas as gpd\n",
    "from src.utils.data_utils import *\n",
    "from src.utils.general_utils import *\n",
    "from tqdm import tqdm\n",
    "from prettytable import PrettyTable\n",
    "from ipywidgets import interact\n",
    "\n",
    "pd.options.mode.copy_on_write = True"
   ]
  },
  {
   "cell_type": "code",
   "execution_count": 79,
   "metadata": {},
   "outputs": [],
   "source": [
    "# Constants\n",
    "\n",
    "TEXT_SEPARATOR = \"_\" * 40\n",
    "# The following Color Palette is color-blind friendly, as has been carefully curated from Tol and IBM's specialized palettes (https://davidmathlogic.com/colorblind/)\n",
    "# You can play with it/visualize it here : https://coolors.co/332288-88ccee-e69f00-44aa99-f0e442-d55e00-882255-009e73 \n",
    "COLOR_PALETTE = [\"#332288\",\"#88ccee\",\"#e69f00\",\"#44aa99\",\"#f0e442\",\"#d55e00\",\"#882255\",\"#009e73\"]\n",
    "\n",
    "RES_PATH = \"res/\""
   ]
  },
  {
   "cell_type": "code",
   "execution_count": 80,
   "metadata": {},
   "outputs": [],
   "source": [
    "# Dataset setups\n",
    "RAW_DATA_FOLDER = \"data/raw/\"\n",
    "\n",
    "CMU_MOVIES_DS = ProjectDataset(RAW_DATA_FOLDER+\"movie.metadata.tsv\",\n",
    "                               \"CMU Movies\",\n",
    "                               \"Base dataset for ADA. Contains ~80K movies and their metadata.\",\n",
    "                               {\n",
    "                                    \"wikipedia_id\": \"A UID for the movie on Wikipedia.\",\n",
    "                                    \"freebase_id\": \"A UID for the movie in Freebase (https://freebase.toolforge.org/)\",\n",
    "                                    \"title\": \"The title of the movie.\",\n",
    "                                    \"release_date\": \"The date the movie was officially released. (<YEAR>, or <YYYY-MM-DD>)\",\n",
    "                                    \"box_office_revenue\": \"The total revenue of the movie\",\n",
    "                                    \"runtime\": \"The duration of the movie, minutes (float).\",\n",
    "                                    \"languages\": \"The languages spoken in the movie. Dict[<Freebase Language Identifier String>:<Language>]\",\n",
    "                                    \"countries\": \"The countries where the movie was produced or primarily associated. Dict[<Freebase Country Identifier String>:<Country>]\",\n",
    "                                    \"genres\": \"Movie genre(s), such as action, drama, comedy, ...\"\n",
    "                                }\n",
    ")\n",
    "\n",
    "CMU_CHARACTER_DS = ProjectDataset(RAW_DATA_FOLDER+\"character.metadata.tsv\",\n",
    "                                  \"CMU characters\",\n",
    "                                  \"Base dataset for ADA. Contains ~450K+ characters from movies, and their descriptions.\",\n",
    "                                  {\n",
    "                                        \"wikipedia_id\": \"A UID for the movie the character comes from on Wikipedia.\",\n",
    "                                        \"freebase_id\": \"A UID for the movie the character comes from on Freebase.\",\n",
    "                                        \"character_name\": \"The name of the character in the movie.\",\n",
    "                                        \"actor_dob\": \"The date of birth of the actor portraying the character.\",\n",
    "                                        \"actor_gender\": \"The gender of the actor portraying the character.\",\n",
    "                                        \"actor_height\": \"The height of the actor portraying the character, typically in centimeters or feet.\",\n",
    "                                        \"actor_ethnicity\": \"The ethnicity of the actor portraying the character.\",\n",
    "                                        \"actor_name\": \"The name of the actor portraying the character.\",\n",
    "                                        \"actor_age_at_movie_release\": \"The age of the actor at the time the movie was released.\",\n",
    "                                        \"freebase_character_map\": \"A unique identifier or mapping of the character in the Freebase database.\"\n",
    "                                    }\n",
    "                                  )\n",
    "\n",
    "CMU_PLOTS_DS = ProjectDataset(RAW_DATA_FOLDER+\"plot_summaries.txt\",\n",
    "                              \"CMU plots\",\n",
    "                              \"Base dataset for ADA. Contains a plot summary for each of the movie in the CMU Movies dataset\",\n",
    "                              {\n",
    "                                  \"wikipedia_id\":\"The UID corresponding to the movie\",\n",
    "                                  \"plot\": \"The (summarized) plot of the movie\"\n",
    "                              })\n",
    "\n",
    "MASSIVE_RT_MOVIE_DS = ProjectDataset(RAW_DATA_FOLDER+\"rotten_tomatoes_movies.csv\",\n",
    "                               \"Massive Rotten Tomatoes Movie metadata\",\n",
    "                               \"Dataset containing ~140K+ movies from RT\",\n",
    "                               {\n",
    "                                    \"id\": \"Unique identifier for each movie.\",\n",
    "                                    \"title\": \"The title of the movie.\",\n",
    "                                    \"audienceScore\": \"The average score given by regular viewers.\",\n",
    "                                    \"tomatoMeter\": \"The percentage of positive reviews from professional critics.\",\n",
    "                                    \"rating\": \"The movie's age-based classification (e.g., 'G', 'PG', 'PG-13', 'R').\",\n",
    "                                    \"ratingContents\": \"Reasons for the age-based classification.\",\n",
    "                                    \"releaseDateTheaters\": \"The date the movie was released in theaters.\",\n",
    "                                    \"releaseDateStreaming\": \"The date the movie became available for streaming.\",\n",
    "                                    \"runtimeMinutes\": \"The movie's duration in minutes.\",\n",
    "                                    \"genre\": \"The movie's genre(s).\",\n",
    "                                    \"originalLanguage\": \"The original language of the movie.\",\n",
    "                                    \"director\": \"The director(s) of the movie.\",\n",
    "                                    \"writer\": \"The writer(s) of the movie.\",\n",
    "                                    \"boxOffice\": \"The total box office earnings of the movie.\",\n",
    "                                    \"distributor\": \"The company responsible for distributing the movie.\",\n",
    "                                    \"soundMix\": \"The sound mixing format(s) used in the movie.\"\n",
    "                                }\n",
    "                            )\n",
    "\n",
    "\n",
    "\n",
    "RT_EXTRA_MOVIE_INFO_DS = ProjectDataset(RAW_DATA_FOLDER+\"movie_info.csv\",\n",
    "                                        \"Extra Rotten Tomatoes Movies\",\n",
    "                                        \"Extra scraped movie information from Rotten Tomatoes for ~12K major US releases between 1970 and 2024\",\n",
    "                                        {\n",
    "                                            \"title\": \"The title of the movie.\",\n",
    "                                            \"url\": \"RT link to the movie.\",\n",
    "                                            \"release_date\": \"Release date of the movie (format is one of ['Released <DATE as text>',<YEAR>]).\",\n",
    "                                            \"critic_score\": \"The rating given by professional critics.\",\n",
    "                                            \"audience_score\": \"The rating given by the general audience.\"\n",
    "                                        }\n",
    "                                    )\n",
    "\n",
    "OSCAR_AWARDS_DS = ProjectDataset(RAW_DATA_FOLDER+\"the_oscar_award.csv\",\n",
    "                                    \"Oscard Awards\",\n",
    "                                    \"A scrape of The Academy Awards Database, recorded of past Academy Award winners and nominees between 1927 and 2024.\",\n",
    "                                    {\n",
    "                                        \"year_film\": \"The year the film was released.\",\n",
    "                                        \"year_ceremony\": \"The year the cermenoy was held and the movie/person was nominated.\",\n",
    "                                        \"ceremony\": \"The number of the ceremony.\",\n",
    "                                        \"category\": \"The nomination category (e.g.: best music, documentary, writing, ...).\",\n",
    "                                        \"name\": \"The name of the nominee/movie.\",\n",
    "                                        \"film\": \"The title of the film for which the nominee was considered. Same as `name` whenever the whole film is nominated\",\n",
    "                                        \"winner\": \"True or False, whether the nominated row won.\"\n",
    "                                    }\n",
    "                                )\n",
    "\n",
    "ALL_DATASETS = [CMU_MOVIES_DS,CMU_CHARACTER_DS,CMU_PLOTS_DS,MASSIVE_RT_MOVIE_DS,RT_EXTRA_MOVIE_INFO_DS,OSCAR_AWARDS_DS]"
   ]
  },
  {
   "cell_type": "code",
   "execution_count": 81,
   "metadata": {},
   "outputs": [
    {
     "name": "stdout",
     "output_type": "stream",
     "text": [
      "We will use 6 datasets in total, namely CMU Movies, CMU characters, CMU plots, Massive Rotten Tomatoes Movie metadata, Extra Rotten Tomatoes Movies, Oscard Awards.\n"
     ]
    }
   ],
   "source": [
    "print(f\"We will use {len(ALL_DATASETS)} datasets in total, namely {', '.join(str(ds) for ds in ALL_DATASETS)}.\")"
   ]
  },
  {
   "cell_type": "markdown",
   "metadata": {},
   "source": [
    "Here is a detailed description of what each datasets contains:\n"
   ]
  },
  {
   "cell_type": "code",
   "execution_count": 82,
   "metadata": {},
   "outputs": [
    {
     "name": "stdout",
     "output_type": "stream",
     "text": [
      "- 1️⃣ \u001b[4mCMU Movies\u001b[0m\n",
      "\n",
      "Base dataset for ADA. Contains ~80K movies and their metadata.\n",
      "\n",
      "+--------------------+------------------------------------------+\n",
      "|   Column/Fearure   | Description                              |\n",
      "+--------------------+------------------------------------------+\n",
      "|    wikipedia_id    | A UID for the movie on Wikipedia.        |\n",
      "|                    |                                          |\n",
      "|    freebase_id     | A UID for the movie in Freebase          |\n",
      "|                    | (https://freebase.toolforge.org/)        |\n",
      "|                    |                                          |\n",
      "|       title        | The title of the movie.                  |\n",
      "|                    |                                          |\n",
      "|    release_date    | The date the movie was officially        |\n",
      "|                    | released. (<YEAR>, or <YYYY-MM-DD>)      |\n",
      "|                    |                                          |\n",
      "| box_office_revenue | The total revenue of the movie           |\n",
      "|                    |                                          |\n",
      "|      runtime       | The duration of the movie, minutes       |\n",
      "|                    | (float).                                 |\n",
      "|                    |                                          |\n",
      "|     languages      | The languages spoken in the movie.       |\n",
      "|                    | Dict[<Freebase Language Identifier       |\n",
      "|                    | String>:<Language>]                      |\n",
      "|                    |                                          |\n",
      "|     countries      | The countries where the movie was        |\n",
      "|                    | produced or primarily associated.        |\n",
      "|                    | Dict[<Freebase Country Identifier        |\n",
      "|                    | String>:<Country>]                       |\n",
      "|                    |                                          |\n",
      "|       genres       | Movie genre(s), such as action, drama,   |\n",
      "|                    | comedy, ...                              |\n",
      "|                    |                                          |\n",
      "+--------------------+------------------------------------------+\n",
      "\n",
      "\n",
      "- 2️⃣ \u001b[4mCMU characters\u001b[0m\n",
      "\n",
      "Base dataset for ADA. Contains ~450K+ characters from movies, and their descriptions.\n",
      "\n",
      "+----------------------------+------------------------------------------+\n",
      "|       Column/Fearure       | Description                              |\n",
      "+----------------------------+------------------------------------------+\n",
      "|        wikipedia_id        | A UID for the movie the character comes  |\n",
      "|                            | from on Wikipedia.                       |\n",
      "|                            |                                          |\n",
      "|        freebase_id         | A UID for the movie the character comes  |\n",
      "|                            | from on Freebase.                        |\n",
      "|                            |                                          |\n",
      "|       character_name       | The name of the character in the movie.  |\n",
      "|                            |                                          |\n",
      "|         actor_dob          | The date of birth of the actor           |\n",
      "|                            | portraying the character.                |\n",
      "|                            |                                          |\n",
      "|        actor_gender        | The gender of the actor portraying the   |\n",
      "|                            | character.                               |\n",
      "|                            |                                          |\n",
      "|        actor_height        | The height of the actor portraying the   |\n",
      "|                            | character, typically in centimeters or   |\n",
      "|                            | feet.                                    |\n",
      "|                            |                                          |\n",
      "|      actor_ethnicity       | The ethnicity of the actor portraying    |\n",
      "|                            | the character.                           |\n",
      "|                            |                                          |\n",
      "|         actor_name         | The name of the actor portraying the     |\n",
      "|                            | character.                               |\n",
      "|                            |                                          |\n",
      "| actor_age_at_movie_release | The age of the actor at the time the     |\n",
      "|                            | movie was released.                      |\n",
      "|                            |                                          |\n",
      "|   freebase_character_map   | A unique identifier or mapping of the    |\n",
      "|                            | character in the Freebase database.      |\n",
      "|                            |                                          |\n",
      "+----------------------------+------------------------------------------+\n",
      "\n",
      "\n",
      "- 3️⃣ \u001b[4mCMU plots\u001b[0m\n",
      "\n",
      "Base dataset for ADA. Contains a plot summary for each of the movie in the CMU Movies dataset\n",
      "\n",
      "+----------------+------------------------------------+\n",
      "| Column/Fearure | Description                        |\n",
      "+----------------+------------------------------------+\n",
      "|  wikipedia_id  | The UID corresponding to the movie |\n",
      "|                |                                    |\n",
      "|      plot      | The (summarized) plot of the movie |\n",
      "|                |                                    |\n",
      "+----------------+------------------------------------+\n",
      "\n",
      "\n",
      "- 4️⃣ \u001b[4mMassive Rotten Tomatoes Movie metadata\u001b[0m\n",
      "\n",
      "Dataset containing ~140K+ movies from RT\n",
      "\n",
      "+----------------------+------------------------------------------+\n",
      "|    Column/Fearure    | Description                              |\n",
      "+----------------------+------------------------------------------+\n",
      "|          id          | Unique identifier for each movie.        |\n",
      "|                      |                                          |\n",
      "|        title         | The title of the movie.                  |\n",
      "|                      |                                          |\n",
      "|    audienceScore     | The average score given by regular       |\n",
      "|                      | viewers.                                 |\n",
      "|                      |                                          |\n",
      "|     tomatoMeter      | The percentage of positive reviews from  |\n",
      "|                      | professional critics.                    |\n",
      "|                      |                                          |\n",
      "|        rating        | The movie's age-based classification     |\n",
      "|                      | (e.g., 'G', 'PG', 'PG-13', 'R').         |\n",
      "|                      |                                          |\n",
      "|    ratingContents    | Reasons for the age-based                |\n",
      "|                      | classification.                          |\n",
      "|                      |                                          |\n",
      "| releaseDateTheaters  | The date the movie was released in       |\n",
      "|                      | theaters.                                |\n",
      "|                      |                                          |\n",
      "| releaseDateStreaming | The date the movie became available for  |\n",
      "|                      | streaming.                               |\n",
      "|                      |                                          |\n",
      "|    runtimeMinutes    | The movie's duration in minutes.         |\n",
      "|                      |                                          |\n",
      "|        genre         | The movie's genre(s).                    |\n",
      "|                      |                                          |\n",
      "|   originalLanguage   | The original language of the movie.      |\n",
      "|                      |                                          |\n",
      "|       director       | The director(s) of the movie.            |\n",
      "|                      |                                          |\n",
      "|        writer        | The writer(s) of the movie.              |\n",
      "|                      |                                          |\n",
      "|      boxOffice       | The total box office earnings of the     |\n",
      "|                      | movie.                                   |\n",
      "|                      |                                          |\n",
      "|     distributor      | The company responsible for distributing |\n",
      "|                      | the movie.                               |\n",
      "|                      |                                          |\n",
      "|       soundMix       | The sound mixing format(s) used in the   |\n",
      "|                      | movie.                                   |\n",
      "|                      |                                          |\n",
      "+----------------------+------------------------------------------+\n",
      "\n",
      "\n",
      "- 5️⃣ \u001b[4mExtra Rotten Tomatoes Movies\u001b[0m\n",
      "\n",
      "Extra scraped movie information from Rotten Tomatoes for ~12K major US releases between 1970 and 2024\n",
      "\n",
      "+----------------+------------------------------------------+\n",
      "| Column/Fearure | Description                              |\n",
      "+----------------+------------------------------------------+\n",
      "|     title      | The title of the movie.                  |\n",
      "|                |                                          |\n",
      "|      url       | RT link to the movie.                    |\n",
      "|                |                                          |\n",
      "|  release_date  | Release date of the movie (format is one |\n",
      "|                | of ['Released <DATE as text>',<YEAR>]).  |\n",
      "|                |                                          |\n",
      "|  critic_score  | The rating given by professional         |\n",
      "|                | critics.                                 |\n",
      "|                |                                          |\n",
      "| audience_score | The rating given by the general          |\n",
      "|                | audience.                                |\n",
      "|                |                                          |\n",
      "+----------------+------------------------------------------+\n",
      "\n",
      "\n",
      "- 6️⃣ \u001b[4mOscard Awards\u001b[0m\n",
      "\n",
      "A scrape of The Academy Awards Database, recorded of past Academy Award winners and nominees between 1927 and 2024.\n",
      "\n",
      "+----------------+------------------------------------------+\n",
      "| Column/Fearure | Description                              |\n",
      "+----------------+------------------------------------------+\n",
      "|   year_film    | The year the film was released.          |\n",
      "|                |                                          |\n",
      "| year_ceremony  | The year the cermenoy was held and the   |\n",
      "|                | movie/person was nominated.              |\n",
      "|                |                                          |\n",
      "|    ceremony    | The number of the ceremony.              |\n",
      "|                |                                          |\n",
      "|    category    | The nomination category (e.g.: best      |\n",
      "|                | music, documentary, writing, ...).       |\n",
      "|                |                                          |\n",
      "|      name      | The name of the nominee/movie.           |\n",
      "|                |                                          |\n",
      "|      film      | The title of the film for which the      |\n",
      "|                | nominee was considered. Same as `name`   |\n",
      "|                | whenever the whole film is nominated     |\n",
      "|                |                                          |\n",
      "|     winner     | True or False, whether the nominated row |\n",
      "|                | won.                                     |\n",
      "|                |                                          |\n",
      "+----------------+------------------------------------------+\n",
      "\n",
      "\n"
     ]
    }
   ],
   "source": [
    "for i,ds in enumerate(ALL_DATASETS):\n",
    "    print(f\"- {number_to_emoji(i+1)} \\033[4m{ds.name}\\033[0m\\n\")\n",
    "    print(f\"{ds.description}\\n\")\n",
    "    table = PrettyTable()\n",
    "    table.field_names = [\"Column/Fearure\", \"Description\"]\n",
    "    table.align['Description'] = 'l'\n",
    "    table.max_width[\"Description\"] = 40\n",
    "    \n",
    "    for column_name, column_description in ds.columns_descriptions.items():\n",
    "        table.add_row([column_name, column_description+'\\n'])\n",
    "\n",
    "    print(table)\n",
    "    print(\"\\n\")\n",
    "\n"
   ]
  },
  {
   "cell_type": "code",
   "execution_count": 83,
   "metadata": {},
   "outputs": [
    {
     "name": "stderr",
     "output_type": "stream",
     "text": [
      "Preloading datasets...: 100%|██████████| 6/6 [00:02<00:00,  2.17it/s]\n"
     ]
    }
   ],
   "source": [
    "for dataset in tqdm(ALL_DATASETS,total=len(ALL_DATASETS),desc=\"Preloading datasets...\"):\n",
    "    _ = dataset.df"
   ]
  },
  {
   "cell_type": "code",
   "execution_count": 84,
   "metadata": {},
   "outputs": [],
   "source": [
    "import pandas as pd\n",
    "import re\n",
    "import pandas as pd\n",
    "import plotly.graph_objects as go\n",
    "from ipywidgets import interact\n",
    "from IPython.display import clear_output\n",
    "import pandas as pd\n",
    "import plotly.graph_objects as go\n",
    "from ipywidgets import interact\n",
    "from IPython.display import clear_output"
   ]
  },
  {
   "cell_type": "code",
   "execution_count": 85,
   "metadata": {},
   "outputs": [],
   "source": [
    "\n",
    "def filter_comedy_movies(movie_df):\n",
    "    \"\"\"\n",
    "    Filters comedy movies and their sequels based on specific conditions.\n",
    "    \n",
    "    Parameters:\n",
    "        movie_df (pd.DataFrame): Input DataFrame with movie data.\n",
    "        \n",
    "    Returns:\n",
    "        pd.DataFrame: Filtered DataFrame.\n",
    "        set: Set of retained base IDs.\n",
    "    \"\"\"\n",
    "    # Filter for comedy genre\n",
    "    df_comedy = movie_df[movie_df['genre'].str.contains('comedy', case=False, na=False)]\n",
    "    df_titles_ratings = df_comedy[['id', 'title', 'audienceScore', 'releaseDateStreaming']].copy()\n",
    "    df_titles_ratings_sorted = (\n",
    "        df_titles_ratings\n",
    "        .sort_values(by='id', ascending=True)\n",
    "        .reset_index(drop=True)\n",
    "        .dropna(subset=['audienceScore'])\n",
    "    )\n",
    "\n",
    "    # Filter IDs ending with \"_10\" or \"_[2-9]\"\n",
    "    df_ids_between_1_and_10 = df_titles_ratings_sorted[\n",
    "        df_titles_ratings_sorted['id'].str.contains(r'_(10|[2-9])$', na=False)\n",
    "    ]\n",
    "\n",
    "    df_result = df_ids_between_1_and_10.copy()\n",
    "    set_base = set()\n",
    "\n",
    "    for full_id in df_ids_between_1_and_10['id']:\n",
    "        if full_id.endswith(\"_2\"):\n",
    "            base_id_match = re.match(r'^(.*)_\\d+$', full_id)\n",
    "            if base_id_match:\n",
    "                base_id = base_id_match.group(1)\n",
    "                if not df_titles_ratings_sorted['id'].str.contains(f'^{base_id}$', na=False).any():\n",
    "                    df_result = df_result[~df_result['id'].str.startswith(f'{base_id}_')]\n",
    "                else:\n",
    "                    if base_id in df_titles_ratings_sorted['id'].values:\n",
    "                        set_base.add(base_id)\n",
    "                        matching_record = df_titles_ratings_sorted[df_titles_ratings_sorted['id'] == base_id]\n",
    "                        df_result = pd.concat([df_result, matching_record])\n",
    "\n",
    "    set_base.discard('no_manches_frida')\n",
    "    df_result = df_result.sort_values(by='id').reset_index(drop=True)\n",
    "\n",
    "    return df_result, set_base\n"
   ]
  },
  {
   "cell_type": "code",
   "execution_count": 86,
   "metadata": {},
   "outputs": [],
   "source": [
    "import re\n",
    "\n",
    "def filter_dataframe(df, initial_bases):\n",
    "    indices_to_drop = []  # Liste des indices à supprimer\n",
    "\n",
    "    for i in df.index:\n",
    "        full_id = df.loc[i, 'id']  # Récupérer l'ID complet pour la ligne courante\n",
    "        last_char = full_id[-1]  # Dernier caractère\n",
    "        before_last_char = full_id[-2] if len(full_id) > 1 else \"\"  # Avant-dernier caractère\n",
    "\n",
    "        if last_char.isdigit() and before_last_char == \"_\":  # Vérifier si c'est une suite\n",
    "            number = int(last_char)\n",
    "            base = full_id[:-2]  # Supprimer \"_x\" pour obtenir la base\n",
    "\n",
    "            if number == 2 and base not in initial_bases:\n",
    "                indices_to_drop.append(i)\n",
    "                continue\n",
    "\n",
    "            if number > 2:\n",
    "                # Vérifier si la base est dans `initial_bases`\n",
    "                if base not in initial_bases:\n",
    "                    indices_to_drop.append(i)\n",
    "                    continue\n",
    "\n",
    "                # Construire l'ID attendu pour \"number-1\"\n",
    "                expected_previous_id = f\"{base}_{number - 1}\"  # Construire l'ID attendu\n",
    "                if i == 0 or df.loc[i - 1, 'id'] != expected_previous_id:  # Vérifier si n-1 existe\n",
    "                    indices_to_drop.append(i)\n",
    "        else:  # Si ce n'est pas une suite, c'est une base\n",
    "            if full_id not in initial_bases:  # Vérifier si la base est dans `initial_bases`\n",
    "                indices_to_drop.append(i)\n",
    "\n",
    "    # Supprimer les lignes avec les indices accumulés\n",
    "    df.drop(index=indices_to_drop, inplace=True)\n",
    "\n",
    "    # Réinitialiser les index pour un DataFrame propre\n",
    "    df.reset_index(drop=True, inplace=True)\n",
    "\n",
    "    return df\n"
   ]
  },
  {
   "cell_type": "code",
   "execution_count": 87,
   "metadata": {},
   "outputs": [],
   "source": [
    "def data_part_1(movie_df):\n",
    "\n",
    "    df_result, set_base = filter_comedy_movies(movie_df)\n",
    "    \n",
    "    final_df = filter_dataframe(df_result, set_base)\n",
    "\n",
    "    set_titles = set(final_df[final_df['id'].isin(set_base)]['title'])\n",
    "    \n",
    "    return final_df, set_titles\n",
    "\n",
    "\n"
   ]
  },
  {
   "cell_type": "code",
   "execution_count": 88,
   "metadata": {},
   "outputs": [
    {
     "name": "stderr",
     "output_type": "stream",
     "text": [
      "C:\\Users\\Caroline V\\AppData\\Local\\Temp\\ipykernel_31264\\117398216.py:24: UserWarning:\n",
      "\n",
      "This pattern is interpreted as a regular expression, and has match groups. To actually get the groups, use str.extract.\n",
      "\n"
     ]
    }
   ],
   "source": [
    "final_df, set_titles = data_part_1(MASSIVE_RT_MOVIE_DS.df)\n"
   ]
  },
  {
   "cell_type": "code",
   "execution_count": 89,
   "metadata": {},
   "outputs": [
    {
     "data": {
      "application/vnd.plotly.v1+json": {
       "config": {
        "plotlyServerURL": "https://plot.ly"
       },
       "data": [
        {
         "line": {
          "color": "royalblue",
          "width": 3
         },
         "marker": {
          "color": "orange",
          "line": {
           "color": "darkblue",
           "width": 2
          },
          "size": 10
         },
         "mode": "lines+markers",
         "name": "Ice Age",
         "type": "scatter",
         "x": [
          "Ice Age (2005)",
          "Ice Age: The Meltdown (2006)"
         ],
         "y": [
          82,
          71
         ]
        }
       ],
       "layout": {
        "annotations": [
         {
          "bgcolor": "lightyellow",
          "bordercolor": "black",
          "font": {
           "color": "black",
           "size": 12
          },
          "showarrow": false,
          "text": "82",
          "x": "Ice Age (2005)",
          "y": 82
         },
         {
          "bgcolor": "lightyellow",
          "bordercolor": "black",
          "font": {
           "color": "black",
           "size": 12
          },
          "showarrow": false,
          "text": "71",
          "x": "Ice Age: The Meltdown (2006)",
          "y": 71
         }
        ],
        "plot_bgcolor": "whitesmoke",
        "template": {
         "data": {
          "bar": [
           {
            "error_x": {
             "color": "#2a3f5f"
            },
            "error_y": {
             "color": "#2a3f5f"
            },
            "marker": {
             "line": {
              "color": "white",
              "width": 0.5
             },
             "pattern": {
              "fillmode": "overlay",
              "size": 10,
              "solidity": 0.2
             }
            },
            "type": "bar"
           }
          ],
          "barpolar": [
           {
            "marker": {
             "line": {
              "color": "white",
              "width": 0.5
             },
             "pattern": {
              "fillmode": "overlay",
              "size": 10,
              "solidity": 0.2
             }
            },
            "type": "barpolar"
           }
          ],
          "carpet": [
           {
            "aaxis": {
             "endlinecolor": "#2a3f5f",
             "gridcolor": "#C8D4E3",
             "linecolor": "#C8D4E3",
             "minorgridcolor": "#C8D4E3",
             "startlinecolor": "#2a3f5f"
            },
            "baxis": {
             "endlinecolor": "#2a3f5f",
             "gridcolor": "#C8D4E3",
             "linecolor": "#C8D4E3",
             "minorgridcolor": "#C8D4E3",
             "startlinecolor": "#2a3f5f"
            },
            "type": "carpet"
           }
          ],
          "choropleth": [
           {
            "colorbar": {
             "outlinewidth": 0,
             "ticks": ""
            },
            "type": "choropleth"
           }
          ],
          "contour": [
           {
            "colorbar": {
             "outlinewidth": 0,
             "ticks": ""
            },
            "colorscale": [
             [
              0,
              "#0d0887"
             ],
             [
              0.1111111111111111,
              "#46039f"
             ],
             [
              0.2222222222222222,
              "#7201a8"
             ],
             [
              0.3333333333333333,
              "#9c179e"
             ],
             [
              0.4444444444444444,
              "#bd3786"
             ],
             [
              0.5555555555555556,
              "#d8576b"
             ],
             [
              0.6666666666666666,
              "#ed7953"
             ],
             [
              0.7777777777777778,
              "#fb9f3a"
             ],
             [
              0.8888888888888888,
              "#fdca26"
             ],
             [
              1,
              "#f0f921"
             ]
            ],
            "type": "contour"
           }
          ],
          "contourcarpet": [
           {
            "colorbar": {
             "outlinewidth": 0,
             "ticks": ""
            },
            "type": "contourcarpet"
           }
          ],
          "heatmap": [
           {
            "colorbar": {
             "outlinewidth": 0,
             "ticks": ""
            },
            "colorscale": [
             [
              0,
              "#0d0887"
             ],
             [
              0.1111111111111111,
              "#46039f"
             ],
             [
              0.2222222222222222,
              "#7201a8"
             ],
             [
              0.3333333333333333,
              "#9c179e"
             ],
             [
              0.4444444444444444,
              "#bd3786"
             ],
             [
              0.5555555555555556,
              "#d8576b"
             ],
             [
              0.6666666666666666,
              "#ed7953"
             ],
             [
              0.7777777777777778,
              "#fb9f3a"
             ],
             [
              0.8888888888888888,
              "#fdca26"
             ],
             [
              1,
              "#f0f921"
             ]
            ],
            "type": "heatmap"
           }
          ],
          "heatmapgl": [
           {
            "colorbar": {
             "outlinewidth": 0,
             "ticks": ""
            },
            "colorscale": [
             [
              0,
              "#0d0887"
             ],
             [
              0.1111111111111111,
              "#46039f"
             ],
             [
              0.2222222222222222,
              "#7201a8"
             ],
             [
              0.3333333333333333,
              "#9c179e"
             ],
             [
              0.4444444444444444,
              "#bd3786"
             ],
             [
              0.5555555555555556,
              "#d8576b"
             ],
             [
              0.6666666666666666,
              "#ed7953"
             ],
             [
              0.7777777777777778,
              "#fb9f3a"
             ],
             [
              0.8888888888888888,
              "#fdca26"
             ],
             [
              1,
              "#f0f921"
             ]
            ],
            "type": "heatmapgl"
           }
          ],
          "histogram": [
           {
            "marker": {
             "pattern": {
              "fillmode": "overlay",
              "size": 10,
              "solidity": 0.2
             }
            },
            "type": "histogram"
           }
          ],
          "histogram2d": [
           {
            "colorbar": {
             "outlinewidth": 0,
             "ticks": ""
            },
            "colorscale": [
             [
              0,
              "#0d0887"
             ],
             [
              0.1111111111111111,
              "#46039f"
             ],
             [
              0.2222222222222222,
              "#7201a8"
             ],
             [
              0.3333333333333333,
              "#9c179e"
             ],
             [
              0.4444444444444444,
              "#bd3786"
             ],
             [
              0.5555555555555556,
              "#d8576b"
             ],
             [
              0.6666666666666666,
              "#ed7953"
             ],
             [
              0.7777777777777778,
              "#fb9f3a"
             ],
             [
              0.8888888888888888,
              "#fdca26"
             ],
             [
              1,
              "#f0f921"
             ]
            ],
            "type": "histogram2d"
           }
          ],
          "histogram2dcontour": [
           {
            "colorbar": {
             "outlinewidth": 0,
             "ticks": ""
            },
            "colorscale": [
             [
              0,
              "#0d0887"
             ],
             [
              0.1111111111111111,
              "#46039f"
             ],
             [
              0.2222222222222222,
              "#7201a8"
             ],
             [
              0.3333333333333333,
              "#9c179e"
             ],
             [
              0.4444444444444444,
              "#bd3786"
             ],
             [
              0.5555555555555556,
              "#d8576b"
             ],
             [
              0.6666666666666666,
              "#ed7953"
             ],
             [
              0.7777777777777778,
              "#fb9f3a"
             ],
             [
              0.8888888888888888,
              "#fdca26"
             ],
             [
              1,
              "#f0f921"
             ]
            ],
            "type": "histogram2dcontour"
           }
          ],
          "mesh3d": [
           {
            "colorbar": {
             "outlinewidth": 0,
             "ticks": ""
            },
            "type": "mesh3d"
           }
          ],
          "parcoords": [
           {
            "line": {
             "colorbar": {
              "outlinewidth": 0,
              "ticks": ""
             }
            },
            "type": "parcoords"
           }
          ],
          "pie": [
           {
            "automargin": true,
            "type": "pie"
           }
          ],
          "scatter": [
           {
            "fillpattern": {
             "fillmode": "overlay",
             "size": 10,
             "solidity": 0.2
            },
            "type": "scatter"
           }
          ],
          "scatter3d": [
           {
            "line": {
             "colorbar": {
              "outlinewidth": 0,
              "ticks": ""
             }
            },
            "marker": {
             "colorbar": {
              "outlinewidth": 0,
              "ticks": ""
             }
            },
            "type": "scatter3d"
           }
          ],
          "scattercarpet": [
           {
            "marker": {
             "colorbar": {
              "outlinewidth": 0,
              "ticks": ""
             }
            },
            "type": "scattercarpet"
           }
          ],
          "scattergeo": [
           {
            "marker": {
             "colorbar": {
              "outlinewidth": 0,
              "ticks": ""
             }
            },
            "type": "scattergeo"
           }
          ],
          "scattergl": [
           {
            "marker": {
             "colorbar": {
              "outlinewidth": 0,
              "ticks": ""
             }
            },
            "type": "scattergl"
           }
          ],
          "scattermapbox": [
           {
            "marker": {
             "colorbar": {
              "outlinewidth": 0,
              "ticks": ""
             }
            },
            "type": "scattermapbox"
           }
          ],
          "scatterpolar": [
           {
            "marker": {
             "colorbar": {
              "outlinewidth": 0,
              "ticks": ""
             }
            },
            "type": "scatterpolar"
           }
          ],
          "scatterpolargl": [
           {
            "marker": {
             "colorbar": {
              "outlinewidth": 0,
              "ticks": ""
             }
            },
            "type": "scatterpolargl"
           }
          ],
          "scatterternary": [
           {
            "marker": {
             "colorbar": {
              "outlinewidth": 0,
              "ticks": ""
             }
            },
            "type": "scatterternary"
           }
          ],
          "surface": [
           {
            "colorbar": {
             "outlinewidth": 0,
             "ticks": ""
            },
            "colorscale": [
             [
              0,
              "#0d0887"
             ],
             [
              0.1111111111111111,
              "#46039f"
             ],
             [
              0.2222222222222222,
              "#7201a8"
             ],
             [
              0.3333333333333333,
              "#9c179e"
             ],
             [
              0.4444444444444444,
              "#bd3786"
             ],
             [
              0.5555555555555556,
              "#d8576b"
             ],
             [
              0.6666666666666666,
              "#ed7953"
             ],
             [
              0.7777777777777778,
              "#fb9f3a"
             ],
             [
              0.8888888888888888,
              "#fdca26"
             ],
             [
              1,
              "#f0f921"
             ]
            ],
            "type": "surface"
           }
          ],
          "table": [
           {
            "cells": {
             "fill": {
              "color": "#EBF0F8"
             },
             "line": {
              "color": "white"
             }
            },
            "header": {
             "fill": {
              "color": "#C8D4E3"
             },
             "line": {
              "color": "white"
             }
            },
            "type": "table"
           }
          ]
         },
         "layout": {
          "annotationdefaults": {
           "arrowcolor": "#2a3f5f",
           "arrowhead": 0,
           "arrowwidth": 1
          },
          "autotypenumbers": "strict",
          "coloraxis": {
           "colorbar": {
            "outlinewidth": 0,
            "ticks": ""
           }
          },
          "colorscale": {
           "diverging": [
            [
             0,
             "#8e0152"
            ],
            [
             0.1,
             "#c51b7d"
            ],
            [
             0.2,
             "#de77ae"
            ],
            [
             0.3,
             "#f1b6da"
            ],
            [
             0.4,
             "#fde0ef"
            ],
            [
             0.5,
             "#f7f7f7"
            ],
            [
             0.6,
             "#e6f5d0"
            ],
            [
             0.7,
             "#b8e186"
            ],
            [
             0.8,
             "#7fbc41"
            ],
            [
             0.9,
             "#4d9221"
            ],
            [
             1,
             "#276419"
            ]
           ],
           "sequential": [
            [
             0,
             "#0d0887"
            ],
            [
             0.1111111111111111,
             "#46039f"
            ],
            [
             0.2222222222222222,
             "#7201a8"
            ],
            [
             0.3333333333333333,
             "#9c179e"
            ],
            [
             0.4444444444444444,
             "#bd3786"
            ],
            [
             0.5555555555555556,
             "#d8576b"
            ],
            [
             0.6666666666666666,
             "#ed7953"
            ],
            [
             0.7777777777777778,
             "#fb9f3a"
            ],
            [
             0.8888888888888888,
             "#fdca26"
            ],
            [
             1,
             "#f0f921"
            ]
           ],
           "sequentialminus": [
            [
             0,
             "#0d0887"
            ],
            [
             0.1111111111111111,
             "#46039f"
            ],
            [
             0.2222222222222222,
             "#7201a8"
            ],
            [
             0.3333333333333333,
             "#9c179e"
            ],
            [
             0.4444444444444444,
             "#bd3786"
            ],
            [
             0.5555555555555556,
             "#d8576b"
            ],
            [
             0.6666666666666666,
             "#ed7953"
            ],
            [
             0.7777777777777778,
             "#fb9f3a"
            ],
            [
             0.8888888888888888,
             "#fdca26"
            ],
            [
             1,
             "#f0f921"
            ]
           ]
          },
          "colorway": [
           "#636efa",
           "#EF553B",
           "#00cc96",
           "#ab63fa",
           "#FFA15A",
           "#19d3f3",
           "#FF6692",
           "#B6E880",
           "#FF97FF",
           "#FECB52"
          ],
          "font": {
           "color": "#2a3f5f"
          },
          "geo": {
           "bgcolor": "white",
           "lakecolor": "white",
           "landcolor": "white",
           "showlakes": true,
           "showland": true,
           "subunitcolor": "#C8D4E3"
          },
          "hoverlabel": {
           "align": "left"
          },
          "hovermode": "closest",
          "mapbox": {
           "style": "light"
          },
          "paper_bgcolor": "white",
          "plot_bgcolor": "white",
          "polar": {
           "angularaxis": {
            "gridcolor": "#EBF0F8",
            "linecolor": "#EBF0F8",
            "ticks": ""
           },
           "bgcolor": "white",
           "radialaxis": {
            "gridcolor": "#EBF0F8",
            "linecolor": "#EBF0F8",
            "ticks": ""
           }
          },
          "scene": {
           "xaxis": {
            "backgroundcolor": "white",
            "gridcolor": "#DFE8F3",
            "gridwidth": 2,
            "linecolor": "#EBF0F8",
            "showbackground": true,
            "ticks": "",
            "zerolinecolor": "#EBF0F8"
           },
           "yaxis": {
            "backgroundcolor": "white",
            "gridcolor": "#DFE8F3",
            "gridwidth": 2,
            "linecolor": "#EBF0F8",
            "showbackground": true,
            "ticks": "",
            "zerolinecolor": "#EBF0F8"
           },
           "zaxis": {
            "backgroundcolor": "white",
            "gridcolor": "#DFE8F3",
            "gridwidth": 2,
            "linecolor": "#EBF0F8",
            "showbackground": true,
            "ticks": "",
            "zerolinecolor": "#EBF0F8"
           }
          },
          "shapedefaults": {
           "line": {
            "color": "#2a3f5f"
           }
          },
          "ternary": {
           "aaxis": {
            "gridcolor": "#DFE8F3",
            "linecolor": "#A2B1C6",
            "ticks": ""
           },
           "baxis": {
            "gridcolor": "#DFE8F3",
            "linecolor": "#A2B1C6",
            "ticks": ""
           },
           "bgcolor": "white",
           "caxis": {
            "gridcolor": "#DFE8F3",
            "linecolor": "#A2B1C6",
            "ticks": ""
           }
          },
          "title": {
           "x": 0.05
          },
          "xaxis": {
           "automargin": true,
           "gridcolor": "#EBF0F8",
           "linecolor": "#EBF0F8",
           "ticks": "",
           "title": {
            "standoff": 15
           },
           "zerolinecolor": "#EBF0F8",
           "zerolinewidth": 2
          },
          "yaxis": {
           "automargin": true,
           "gridcolor": "#EBF0F8",
           "linecolor": "#EBF0F8",
           "ticks": "",
           "title": {
            "standoff": 15
           },
           "zerolinecolor": "#EBF0F8",
           "zerolinewidth": 2
          }
         }
        },
        "title": {
         "font": {
          "color": "darkblue",
          "size": 18
         },
         "text": "<b>Audience Scores for 'Ice Age' and Its Sequels</b>",
         "x": 0.5
        },
        "xaxis": {
         "tickangle": 45,
         "tickfont": {
          "color": "black",
          "size": 12
         },
         "title": {
          "font": {
           "color": "darkblue",
           "size": 14
          },
          "text": "Movie Titles (Release Year if available)"
         }
        },
        "yaxis": {
         "gridcolor": "lightgrey",
         "tickfont": {
          "color": "black",
          "size": 12
         },
         "title": {
          "font": {
           "color": "darkblue",
           "size": 14
          },
          "text": "Audience Score"
         }
        }
       }
      }
     },
     "metadata": {},
     "output_type": "display_data"
    },
    {
     "data": {
      "application/vnd.jupyter.widget-view+json": {
       "model_id": "0d9d4e98ecaf4fbd8e98551a5128d883",
       "version_major": 2,
       "version_minor": 0
      },
      "text/plain": [
       "interactive(children=(Dropdown(description='selected_title', options=('Ice Age', 'Caddyshack', 'Miss Congenial…"
      ]
     },
     "metadata": {},
     "output_type": "display_data"
    },
    {
     "data": {
      "text/plain": [
       "<function __main__.plot_movie_suites(selected_title)>"
      ]
     },
     "execution_count": 89,
     "metadata": {},
     "output_type": "execute_result"
    }
   ],
   "source": [
    "# Fonction pour tracer le graphique interactif\n",
    "def plot_movie_suites(selected_title):\n",
    "    # Effacer la sortie précédente pour éviter les graphiques multiples\n",
    "    clear_output(wait=True)\n",
    "    \n",
    "    # Récupérer l'ID de base correspondant au titre sélectionné\n",
    "    base_row = final_df[final_df['title'] == selected_title]\n",
    "    if base_row.empty:\n",
    "        print(f\"Movie title '{selected_title}' not found in the dataset.\")\n",
    "        return\n",
    "    \n",
    "    base_id = base_row.iloc[0]['id']  # Récupérer l'ID de base\n",
    "    \n",
    "    # Filtrer les suites en vérifiant si elles partagent la base\n",
    "    root_id = \"_\".join(base_id.split(\"_\")[:-1])  # Extraire la racine de l'ID\n",
    "    filtered_df = final_df[\n",
    "        (final_df['id'] == base_id) | (final_df['id'].str.startswith(f\"{base_id}_\"))\n",
    "    ]\n",
    "    if filtered_df.empty:\n",
    "        print(f\"No sequels found for '{selected_title}' in the dataset.\")\n",
    "        return\n",
    "    \n",
    "    filtered_df = filtered_df.sort_values(by=\"id\")  # Trier par ID pour garantir l'ordre logique\n",
    "    \n",
    "    # Afficher le DataFrame filtré\n",
    "    print(\"Filtered DataFrame:\")\n",
    "    print(filtered_df)\n",
    "    \n",
    "    # Ajouter une colonne \"year\" extraite de \"releaseDateStreaming\"\n",
    "    filtered_df['year'] = pd.to_datetime(filtered_df['releaseDateStreaming'], errors='coerce').dt.year\n",
    "    \n",
    "    # Vérifier si des années valides existent\n",
    "    valid_filtered_df = filtered_df.dropna(subset=['year'])\n",
    "    \n",
    "    # Créer le graphique\n",
    "    fig = go.Figure()\n",
    "    if valid_filtered_df.empty:\n",
    "        print(f\"No valid release dates for '{selected_title}', but audience scores will be shown.\")\n",
    "    \n",
    "    # Utiliser les années si disponibles, sinon les titres uniquement\n",
    "    x_labels = (\n",
    "        valid_filtered_df['title'] + \" (\" + valid_filtered_df['year'].astype(int).astype(str) + \")\"\n",
    "        if not valid_filtered_df.empty\n",
    "        else filtered_df['title']\n",
    "    )\n",
    "    \n",
    "    fig.add_trace(go.Scatter(\n",
    "        x=x_labels,\n",
    "        y=filtered_df['audienceScore'],  # Scores des spectateurs\n",
    "        mode='lines+markers',\n",
    "        name=selected_title,\n",
    "        line=dict(color='royalblue', width=3),\n",
    "        marker=dict(size=10, color='orange', line=dict(width=2, color='darkblue'))\n",
    "    ))\n",
    "    \n",
    "    # Ajouter des annotations pour chaque score\n",
    "    for i, row in filtered_df.iterrows():\n",
    "        label = (\n",
    "            row['title'] + f\" ({int(row['year'])})\" if pd.notna(row['year']) else row['title']\n",
    "        )\n",
    "        fig.add_annotation(\n",
    "            x=label,\n",
    "            y=row['audienceScore'],\n",
    "            text=str(int(row['audienceScore'])),\n",
    "            showarrow=False,\n",
    "            font=dict(size=12, color=\"black\"),\n",
    "            bgcolor=\"lightyellow\",\n",
    "            bordercolor=\"black\"\n",
    "        )\n",
    "    \n",
    "    # Ajouter les labels et le style\n",
    "    fig.update_layout(\n",
    "        title=dict(\n",
    "            text=f\"<b>Audience Scores for '{selected_title}' and Its Sequels</b>\",\n",
    "            font=dict(size=18, color=\"darkblue\"),\n",
    "            x=0.5\n",
    "        ),\n",
    "        xaxis=dict(\n",
    "            title=\"Movie Titles (Release Year if available)\",\n",
    "            titlefont=dict(size=14, color=\"darkblue\"),\n",
    "            tickangle=45,\n",
    "            tickfont=dict(size=12, color=\"black\")\n",
    "        ),\n",
    "        yaxis=dict(\n",
    "            title=\"Audience Score\",\n",
    "            titlefont=dict(size=14, color=\"darkblue\"),\n",
    "            tickfont=dict(size=12, color=\"black\"),\n",
    "            gridcolor=\"lightgrey\"\n",
    "        ),\n",
    "        plot_bgcolor=\"whitesmoke\",\n",
    "        template=\"plotly_white\"\n",
    "    )\n",
    "    \n",
    "    # Afficher le graphique\n",
    "    display(fig)\n",
    "\n",
    "# Widget interactif avec les titres dans set_titles\n",
    "interact(plot_movie_suites, selected_title=list(set_titles))\n"
   ]
  },
  {
   "cell_type": "markdown",
   "metadata": {},
   "source": [
    "## Data handling\n",
    "\n",
    "In this section, we will now show that our various approaches are feasible, by providing a small Proof of Concept for each type of approach. The results here are by no means our final results (of our final data story), but rather a intermediate viability checkpoint."
   ]
  },
  {
   "cell_type": "markdown",
   "metadata": {},
   "source": [
    "## I- Popularity analysis"
   ]
  },
  {
   "cell_type": "markdown",
   "metadata": {},
   "source": [
    "##"
   ]
  },
  {
   "cell_type": "markdown",
   "metadata": {},
   "source": [
    "## II. Quality analysis\n",
    "\n",
    "In order to access useful indicators of popularity and perform our quality analysis we extend our initial dataset with several \"Rotten Tomatoes\" dataset. The useful indicators we want to study here are : the box-office, the expert critic reviews, the expert critic score, the movie rewards. In comparison with the popularity analysis, the reviews and scores used are the ones given by experts.\n",
    "We start by selecting the useful data in each dataset and we merge appropriate datasets to asses the feasability of exploitation. The size and content of the merges enbale us to discuss the possibility to assess the next operations, for example statistical analysis.\n"
   ]
  },
  {
   "cell_type": "markdown",
   "metadata": {},
   "source": [
    "## III. Per-genre analysis "
   ]
  },
  {
   "cell_type": "markdown",
   "metadata": {},
   "source": [
    "As this section neither requires any additional datasets, nor does it use any different type of techniques, we do no provide a sample Proof of Concept for it. The final analysis will be ready for P3! "
   ]
  },
  {
   "cell_type": "markdown",
   "metadata": {},
   "source": [
    "## IV. Cultural differences"
   ]
  },
  {
   "cell_type": "markdown",
   "metadata": {},
   "source": []
  }
 ],
 "metadata": {
  "kernelspec": {
   "display_name": "ada",
   "language": "python",
   "name": "python3"
  },
  "language_info": {
   "codemirror_mode": {
    "name": "ipython",
    "version": 3
   },
   "file_extension": ".py",
   "mimetype": "text/x-python",
   "name": "python",
   "nbconvert_exporter": "python",
   "pygments_lexer": "ipython3",
   "version": "3.11.9"
  }
 },
 "nbformat": 4,
 "nbformat_minor": 2
}
