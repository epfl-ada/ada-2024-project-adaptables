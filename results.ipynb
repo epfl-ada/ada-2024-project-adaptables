{
 "cells": [
  {
   "cell_type": "markdown",
   "metadata": {},
   "source": [
    "# A comedy handbook - results notebook.\n",
    "\n",
    "In this notebook, you will find the final results surrounding our project of making a comedy handbook.\n",
    "\n",
    "This notebook can be used to recreate all the graphs and conclusions shown in [our data story](https://epfl-ada.github.io/ada-2024-project-adaptables/).\n",
    "\n",
    "Have a good read!\n",
    "\n",
    "*- The ADAptables team*\n",
    "\n",
    "---"
   ]
  },
  {
   "cell_type": "markdown",
   "metadata": {},
   "source": [
    "## 0: Imports and dependencies\n",
    "\n",
    "This project was run using Python 3.10.12. We cannot provide certainty that other versions will work (though anything newer should be fine). Some of our code elegantly uses Python's [pattern matching](https://peps.python.org/pep-0636/), which was introduced in 3.10. Earlier Python versions will therefore not work out of the box (but can be adapted by making very small changes).\n",
    "\n",
    "First, make sure to have installed all requirements by running `pip install -r pip_requirements.txt`, or alternatively uncommenting and running the following cell:"
   ]
  },
  {
   "cell_type": "code",
   "execution_count": 1,
   "metadata": {},
   "outputs": [],
   "source": [
    "# Uncomment to install all required packages\n",
    "# !pip install -r pip_requirements.txt"
   ]
  },
  {
   "cell_type": "code",
   "execution_count": 2,
   "metadata": {},
   "outputs": [],
   "source": [
    "%load_ext autoreload\n",
    "%autoreload 2"
   ]
  },
  {
   "cell_type": "code",
   "execution_count": 3,
   "metadata": {},
   "outputs": [],
   "source": [
    "# Change src.utils.constants.NOTEBOOK_CONFIG.USE_MATPLOTLIB to false if you want interactive, plotly graphs!"
   ]
  },
  {
   "cell_type": "code",
   "execution_count": 4,
   "metadata": {},
   "outputs": [],
   "source": [
    "from src import *"
   ]
  },
  {
   "cell_type": "markdown",
   "metadata": {},
   "source": [
    "### Dataset description and loading"
   ]
  },
  {
   "cell_type": "code",
   "execution_count": 5,
   "metadata": {},
   "outputs": [
    {
     "name": "stdout",
     "output_type": "stream",
     "text": [
      "We will use 7 datasets in total, namely CMU Movies, CMU characters, CMU plots, Massive Rotten Tomatoes Movie metadata, Massive Rotten Tomatoes Reviews, Extra Rotten Tomatoes Movies, Oscard Awards.          \n",
      " Here is a decription of all of them:\n",
      "- 1️⃣ \u001b[4mCMU Movies\u001b[0m\n",
      "\n",
      "Base dataset for ADA. Contains ~80K movies and their metadata.\n",
      "\n",
      "+--------------------+------------------------------------------+\n",
      "|   Column/Fearure   | Description                              |\n",
      "+--------------------+------------------------------------------+\n",
      "|    wikipedia_id    | A UID for the movie on Wikipedia.        |\n",
      "|                    |                                          |\n",
      "|    freebase_id     | A UID for the movie in Freebase          |\n",
      "|                    | (https://freebase.toolforge.org/)        |\n",
      "|                    |                                          |\n",
      "|       title        | The title of the movie.                  |\n",
      "|                    |                                          |\n",
      "|    release_date    | The date the movie was officially        |\n",
      "|                    | released. (<YEAR>, or <YYYY-MM-DD>)      |\n",
      "|                    |                                          |\n",
      "| box_office_revenue | The total revenue of the movie           |\n",
      "|                    |                                          |\n",
      "|      runtime       | The duration of the movie, minutes       |\n",
      "|                    | (float).                                 |\n",
      "|                    |                                          |\n",
      "|     languages      | The languages spoken in the movie.       |\n",
      "|                    | Dict[<Freebase Language Identifier       |\n",
      "|                    | String>:<Language>]                      |\n",
      "|                    |                                          |\n",
      "|     countries      | The countries where the movie was        |\n",
      "|                    | produced or primarily associated.        |\n",
      "|                    | Dict[<Freebase Country Identifier        |\n",
      "|                    | String>:<Country>]                       |\n",
      "|                    |                                          |\n",
      "|       genres       | Movie genre(s), such as action, drama,   |\n",
      "|                    | comedy, ...                              |\n",
      "|                    |                                          |\n",
      "+--------------------+------------------------------------------+\n",
      "\n",
      "\n",
      "- 2️⃣ \u001b[4mCMU characters\u001b[0m\n",
      "\n",
      "Base dataset for ADA. Contains ~450K+ characters from movies, and their descriptions.\n",
      "\n",
      "+----------------------------+------------------------------------------+\n",
      "|       Column/Fearure       | Description                              |\n",
      "+----------------------------+------------------------------------------+\n",
      "|        wikipedia_id        | A UID for the movie the character comes  |\n",
      "|                            | from on Wikipedia.                       |\n",
      "|                            |                                          |\n",
      "|        freebase_id         | A UID for the movie the character comes  |\n",
      "|                            | from on Freebase.                        |\n",
      "|                            |                                          |\n",
      "|       character_name       | The name of the character in the movie.  |\n",
      "|                            |                                          |\n",
      "|         actor_dob          | The date of birth of the actor           |\n",
      "|                            | portraying the character.                |\n",
      "|                            |                                          |\n",
      "|        actor_gender        | The gender of the actor portraying the   |\n",
      "|                            | character.                               |\n",
      "|                            |                                          |\n",
      "|        actor_height        | The height of the actor portraying the   |\n",
      "|                            | character, typically in centimeters or   |\n",
      "|                            | feet.                                    |\n",
      "|                            |                                          |\n",
      "|      actor_ethnicity       | The ethnicity of the actor portraying    |\n",
      "|                            | the character.                           |\n",
      "|                            |                                          |\n",
      "|         actor_name         | The name of the actor portraying the     |\n",
      "|                            | character.                               |\n",
      "|                            |                                          |\n",
      "| actor_age_at_movie_release | The age of the actor at the time the     |\n",
      "|                            | movie was released.                      |\n",
      "|                            |                                          |\n",
      "|   freebase_character_map   | A UID or mapping of the character in the |\n",
      "|                            | Freebase FB.                             |\n",
      "|                            |                                          |\n",
      "|   freebase_character_id    | A UID identifying the character          |\n",
      "|                            | portrayed by the actor in the Freebase   |\n",
      "|                            | DB                                       |\n",
      "|                            |                                          |\n",
      "|     freebase_actor_id      | A UID identifying the actor in the       |\n",
      "|                            | Freebase DB                              |\n",
      "|                            |                                          |\n",
      "+----------------------------+------------------------------------------+\n",
      "\n",
      "\n",
      "- 3️⃣ \u001b[4mCMU plots\u001b[0m\n",
      "\n",
      "Base dataset for ADA. Contains a plot summary for each of the movie in the CMU Movies dataset\n",
      "\n",
      "+----------------+------------------------------------+\n",
      "| Column/Fearure | Description                        |\n",
      "+----------------+------------------------------------+\n",
      "|  wikipedia_id  | The UID corresponding to the movie |\n",
      "|                |                                    |\n",
      "|      plot      | The (summarized) plot of the movie |\n",
      "|                |                                    |\n",
      "+----------------+------------------------------------+\n",
      "\n",
      "\n",
      "- 4️⃣ \u001b[4mMassive Rotten Tomatoes Movie metadata\u001b[0m\n",
      "\n",
      "Dataset containing ~140K+ movies from RT\n",
      "\n",
      "+----------------------+------------------------------------------+\n",
      "|    Column/Fearure    | Description                              |\n",
      "+----------------------+------------------------------------------+\n",
      "|          id          | Unique identifier for each movie.        |\n",
      "|                      |                                          |\n",
      "|        title         | The title of the movie.                  |\n",
      "|                      |                                          |\n",
      "|    audienceScore     | The average score given by regular       |\n",
      "|                      | viewers.                                 |\n",
      "|                      |                                          |\n",
      "|     tomatoMeter      | The percentage of positive reviews from  |\n",
      "|                      | professional critics.                    |\n",
      "|                      |                                          |\n",
      "|        rating        | The movie's age-based classification     |\n",
      "|                      | (e.g., 'G', 'PG', 'PG-13', 'R').         |\n",
      "|                      |                                          |\n",
      "|    ratingContents    | Reasons for the age-based                |\n",
      "|                      | classification.                          |\n",
      "|                      |                                          |\n",
      "| releaseDateTheaters  | The date the movie was released in       |\n",
      "|                      | theaters.                                |\n",
      "|                      |                                          |\n",
      "| releaseDateStreaming | The date the movie became available for  |\n",
      "|                      | streaming.                               |\n",
      "|                      |                                          |\n",
      "|    runtimeMinutes    | The movie's duration in minutes.         |\n",
      "|                      |                                          |\n",
      "|        genre         | The movie's genre(s).                    |\n",
      "|                      |                                          |\n",
      "|   originalLanguage   | The original language of the movie.      |\n",
      "|                      |                                          |\n",
      "|       director       | The director(s) of the movie.            |\n",
      "|                      |                                          |\n",
      "|        writer        | The writer(s) of the movie.              |\n",
      "|                      |                                          |\n",
      "|      boxOffice       | The total box office earnings of the     |\n",
      "|                      | movie.                                   |\n",
      "|                      |                                          |\n",
      "|     distributor      | The company responsible for distributing |\n",
      "|                      | the movie.                               |\n",
      "|                      |                                          |\n",
      "|       soundMix       | The sound mixing format(s) used in the   |\n",
      "|                      | movie.                                   |\n",
      "|                      |                                          |\n",
      "+----------------------+------------------------------------------+\n",
      "\n",
      "\n",
      "- 5️⃣ \u001b[4mMassive Rotten Tomatoes Reviews\u001b[0m\n",
      "\n",
      "Dataset containing ~1.4M+ reviews from RT\n",
      "\n",
      "+----------------+------------------------------------------+\n",
      "| Column/Fearure | Description                              |\n",
      "+----------------+------------------------------------------+\n",
      "|       id       | Unique identifier for each movie         |\n",
      "|                | (matches the ID in the movies dataset).  |\n",
      "|                |                                          |\n",
      "|    reviewId    | Unique identifier for each critic        |\n",
      "|                | review.                                  |\n",
      "|                |                                          |\n",
      "|  creationDate  | The date the review was published.       |\n",
      "|                |                                          |\n",
      "|   criticName   | Name of the critic who wrote the review. |\n",
      "|                |                                          |\n",
      "|  isTopCritic   | Indicates if the critic is considered a  |\n",
      "|                | 'Top Critic' (True or False).            |\n",
      "|                |                                          |\n",
      "| originalScore  | The score provided by the critic.        |\n",
      "|                |                                          |\n",
      "|  reviewState   | The status of the review (e.g., 'fresh', |\n",
      "|                | 'rotten').                               |\n",
      "|                |                                          |\n",
      "| publicatioName | The name of the publication where the    |\n",
      "|                | review was published.                    |\n",
      "|                |                                          |\n",
      "|   reviewText   | The full text of the critic review.      |\n",
      "|                |                                          |\n",
      "| scoreSentiment | The sentiment of the critic's score      |\n",
      "|                | (e.g., 'positive', 'negative',           |\n",
      "|                | 'neutral').                              |\n",
      "|                |                                          |\n",
      "|   reviewUrl    | The url of the review                    |\n",
      "|                |                                          |\n",
      "+----------------+------------------------------------------+\n",
      "\n",
      "\n",
      "- 6️⃣ \u001b[4mExtra Rotten Tomatoes Movies\u001b[0m\n",
      "\n",
      "Extra scraped movie information from Rotten Tomatoes for ~12K major US releases between 1970 and 2024\n",
      "\n",
      "+----------------+------------------------------------------+\n",
      "| Column/Fearure | Description                              |\n",
      "+----------------+------------------------------------------+\n",
      "|     title      | The title of the movie.                  |\n",
      "|                |                                          |\n",
      "|      url       | RT link to the movie.                    |\n",
      "|                |                                          |\n",
      "|  release_date  | Release date of the movie (format is one |\n",
      "|                | of ['Released <DATE as text>',<YEAR>]).  |\n",
      "|                |                                          |\n",
      "|  critic_score  | The rating given by professional         |\n",
      "|                | critics.                                 |\n",
      "|                |                                          |\n",
      "| audience_score | The rating given by the general          |\n",
      "|                | audience.                                |\n",
      "|                |                                          |\n",
      "+----------------+------------------------------------------+\n",
      "\n",
      "\n",
      "- 7️⃣ \u001b[4mOscard Awards\u001b[0m\n",
      "\n",
      "A scrape of The Academy Awards Database, recorded of past Academy Award winners and nominees between 1927 and 2024.\n",
      "\n",
      "+----------------+------------------------------------------+\n",
      "| Column/Fearure | Description                              |\n",
      "+----------------+------------------------------------------+\n",
      "|   year_film    | The year the film was released.          |\n",
      "|                |                                          |\n",
      "| year_ceremony  | The year the cermenoy was held and the   |\n",
      "|                | movie/person was nominated.              |\n",
      "|                |                                          |\n",
      "|    ceremony    | The number of the ceremony.              |\n",
      "|                |                                          |\n",
      "|    category    | The nomination category (e.g.: best      |\n",
      "|                | music, documentary, writing, ...).       |\n",
      "|                |                                          |\n",
      "|      name      | The name of the nominee/movie.           |\n",
      "|                |                                          |\n",
      "|      film      | The title of the film for which the      |\n",
      "|                | nominee was considered. Same as `name`   |\n",
      "|                | whenever the whole film is nominated     |\n",
      "|                |                                          |\n",
      "|     winner     | True or False, whether the nominated row |\n",
      "|                | won.                                     |\n",
      "|                |                                          |\n",
      "+----------------+------------------------------------------+\n",
      "\n",
      "\n"
     ]
    }
   ],
   "source": [
    "describe_datasets(ALL_DATASETS)"
   ]
  },
  {
   "cell_type": "code",
   "execution_count": 6,
   "metadata": {},
   "outputs": [
    {
     "name": "stderr",
     "output_type": "stream",
     "text": [
      "Preloading datasets...: 100%|██████████| 7/7 [00:07<00:00,  1.06s/it]\n"
     ]
    }
   ],
   "source": [
    "preload_datasets(ALL_DATASETS)"
   ]
  },
  {
   "cell_type": "markdown",
   "metadata": {},
   "source": [
    "\n",
    "# Part I. Defining our objective : what is a good comedy?\n",
    "\n",
    "## Sentiment Analysis\n",
    "\n",
    "This subpart aims to answer the following questions:\n",
    "\n",
    "* What are the keys to determine objectively if a movie is good (both in terms of quality and popularity) ? \n",
    "* Are the ratings of big critic sites accurate ?\n",
    "* Do they accurately reflect the true impressions of a viewer ? \n"
   ]
  },
  {
   "cell_type": "code",
   "execution_count": 7,
   "metadata": {},
   "outputs": [],
   "source": [
    "part_one_args = [EDI.mrtrev_sa_df, 'originalScore', 'sa', 'id', EDI.mrt_cmu_expertrevd_comedy_ids]\n",
    "i = 0"
   ]
  },
  {
   "cell_type": "code",
   "execution_count": 8,
   "metadata": {},
   "outputs": [],
   "source": [
    "i+=1\n",
    "i=show_all(i=i,fig_lst=mrt_get_scatterplots(*part_one_args))"
   ]
  },
  {
   "cell_type": "markdown",
   "metadata": {},
   "source": [
    "The correlation between the sentiment analysis mean scores and the ratings of the user is quite low (<0.4) and does not permit drawing conclusions on the accuracy of these factors to validate if a movie is ‘good’. Indeed, low correlation value and high spreading of the points show that a rating does not necessarily reflect the sentiment transmitted by the review. A bias that could have been expected would be to observe more positive sentiment for comedies than for other types of movies. Even though the 2 groups are significantly different, statistically speaking, comedies do not display much higher sentiment scores than other types of movies."
   ]
  },
  {
   "cell_type": "code",
   "execution_count": 9,
   "metadata": {},
   "outputs": [
    {
     "name": "stdout",
     "output_type": "stream",
     "text": [
      "T-Statistic: 14.74\n",
      "P-Value: 0.0000\n",
      "Conclusion: Significant difference between the two groups.\n",
      "\n",
      "Summary Statistics:\n",
      "              count      mean       std      min       25%       50%  \\\n",
      "Group                                                                  \n",
      "Comedy       5580.0  0.619087  0.140349  0.03090  0.539421  0.625339   \n",
      "Non-Comedy  33805.0  0.588119  0.172688  0.01145  0.500000  0.596907   \n",
      "\n",
      "                 75%      max  \n",
      "Group                          \n",
      "Comedy      0.705303  0.98225  \n",
      "Non-Comedy  0.700950  0.98600  \n",
      "T-Statistic: 13.24\n",
      "P-Value: 0.0000\n",
      "Conclusion: Significant difference between the two groups.\n",
      "\n",
      "Summary Statistics:\n",
      "              count      mean       std      min       25%       50%  \\\n",
      "Group                                                                  \n",
      "Comedy       5626.0  0.621556  0.117788  0.05575  0.551984  0.629141   \n",
      "Non-Comedy  57549.0  0.598496  0.180355  0.01030  0.500000  0.607507   \n",
      "\n",
      "                 75%      max  \n",
      "Group                          \n",
      "Comedy      0.700033  0.99205  \n",
      "Non-Comedy  0.720200  0.99325  \n"
     ]
    }
   ],
   "source": [
    "i+=1\n",
    "i=show_all(i=i,fig_lst=mrt_get_boxplots(*part_one_args))"
   ]
  },
  {
   "cell_type": "markdown",
   "metadata": {},
   "source": [
    "This leads to a popularity analysis based on less subjective values such as the box office revenues, the obtention of awards."
   ]
  },
  {
   "cell_type": "markdown",
   "metadata": {},
   "source": [
    "___\n",
    "\n",
    "## Critical success throughout the world - oscars and awards"
   ]
  },
  {
   "cell_type": "code",
   "execution_count": 10,
   "metadata": {},
   "outputs": [],
   "source": [
    "i+=1\n",
    "i=show_all(i=i,fig_lst=[osc_get_awrd_win_comp(CMU_MOVIES_DS.df,OSCAR_AWARDS_DS.df)])"
   ]
  },
  {
   "cell_type": "code",
   "execution_count": 11,
   "metadata": {},
   "outputs": [],
   "source": [
    "i+=1\n",
    "i=show_all(i=i,fig_lst=[osc_get_awrd_win_prop(CMU_MOVIES_DS.df,OSCAR_AWARDS_DS.df)])"
   ]
  },
  {
   "cell_type": "markdown",
   "metadata": {},
   "source": [
    "We can try to quantify the critically acclaimed success for comedy by looking at the Oscar nominations and wins. If we look only at the percentage of award winning comedies over the total number of award winning movies per country to find where the best comedies are made, we find some surprising results. Some countries like Slovenia, Azerbaijan, Zimbabwe, Bosnia and Herzegovina have a 100% result which means that every oscar winning by movies in these countries are from comedies. However when we look at the second graph we can understand that those countries have such a high score because they only won one Oscar and it happened to be a comedy. We can contrast the precedent result by looking at the tradeoff between the number of movies critically acclaimed and the percentage of them that are comedies, in this case Ireland looks like a good destination for finding a well critically received comedy !"
   ]
  },
  {
   "cell_type": "markdown",
   "metadata": {},
   "source": [
    "___\n",
    "\n",
    "##  Commercial success throughout the world"
   ]
  },
  {
   "cell_type": "code",
   "execution_count": 12,
   "metadata": {},
   "outputs": [],
   "source": [
    "i+=1\n",
    "i=show_all(i=i,fig_lst=[osc_get_total_bo_per_country(CMU_MOVIES_DS.df),osc_get_prop_bo_per_country(CMU_MOVIES_DS.df)])"
   ]
  },
  {
   "cell_type": "markdown",
   "metadata": {},
   "source": [
    "Comedy consistently contributes to box office revenues across countries, with some nations showing particularly strong reliance on this genre. For example, even though comedies revenues represent a smaller percentage of the United States of America box office revenues than Serbia and Montenegro we can see that in absolute value since the United State of America produces such an important part of the movies it is still more profitable to make a comedy in the USA rather than in Serbia or Montenegro.\n"
   ]
  },
  {
   "cell_type": "markdown",
   "metadata": {},
   "source": [
    "___\n",
    "## Popularity and rating correlation\n",
    "Finally, let us at how popularity and audience score are correlated:"
   ]
  },
  {
   "cell_type": "code",
   "execution_count": 13,
   "metadata": {},
   "outputs": [],
   "source": [
    "i+=1\n",
    "i=show_all(i=i,fig_lst=[get_rt_audience_tomato_corr(MASSIVE_RT_MOVIE_DS.df)])"
   ]
  },
  {
   "cell_type": "markdown",
   "metadata": {},
   "source": [
    "The scatter plot illustrates the relationship between audience scores (X-axis) and critics' scores (Tomato Meter, Y-axis) for comedies. A clear positive correlation is visible, it shows significant variability and underlines the difference between experts and non-experts.\n",
    "Insight : Audience and critic perceptions often diverge, a good score from both of them brings us close to  what could be called a ‘good’ comedy."
   ]
  },
  {
   "cell_type": "markdown",
   "metadata": {},
   "source": [
    "# Part II. The components of a good comedy"
   ]
  },
  {
   "cell_type": "markdown",
   "metadata": {},
   "source": [
    "## Plot topic evolution\n"
   ]
  },
  {
   "cell_type": "code",
   "execution_count": 14,
   "metadata": {},
   "outputs": [],
   "source": [
    "i+=1\n",
    "i = show_all(i=i,fig_lst=[cmu_plots_get_topic_distributions(EDI.cmu_plots_topics,EDI.topics)])"
   ]
  },
  {
   "cell_type": "code",
   "execution_count": 15,
   "metadata": {},
   "outputs": [
    {
     "name": "stderr",
     "output_type": "stream",
     "text": [
      "/home/vigarov/ada/submission/src/plots/plot.py:355: SettingWithCopyWarning:\n",
      "\n",
      "\n",
      "A value is trying to be set on a copy of a slice from a DataFrame.\n",
      "Try using .loc[row_indexer,col_indexer] = value instead\n",
      "\n",
      "See the caveats in the documentation: https://pandas.pydata.org/pandas-docs/stable/user_guide/indexing.html#returning-a-view-versus-a-copy\n",
      "\n"
     ]
    }
   ],
   "source": [
    "i+=1\n",
    "i = show_all(i=i,fig_lst=cmu_plots_get_money_distr(EDI.cmu_plots_topics,EDI.topics))"
   ]
  },
  {
   "cell_type": "markdown",
   "metadata": {},
   "source": [
    "___\n",
    "\n",
    "## Popular genres"
   ]
  },
  {
   "cell_type": "code",
   "execution_count": 16,
   "metadata": {},
   "outputs": [],
   "source": [
    "i+=1\n",
    "i=show_all(i=i,fig_lst=[cmu_get_genres_split(CMU_MOVIES_DS.df)])"
   ]
  },
  {
   "cell_type": "markdown",
   "metadata": {},
   "source": [
    "We can see the evolution of the genres that can be found in comedy movies throughout the decades"
   ]
  },
  {
   "cell_type": "markdown",
   "metadata": {},
   "source": [
    "___\n",
    "\n",
    "## Genres combination -> QUENTIN"
   ]
  },
  {
   "cell_type": "code",
   "execution_count": null,
   "metadata": {},
   "outputs": [],
   "source": []
  },
  {
   "cell_type": "markdown",
   "metadata": {},
   "source": [
    "___\n",
    "\n",
    "## Cast -> CARO"
   ]
  },
  {
   "cell_type": "markdown",
   "metadata": {},
   "source": [
    "___\n",
    "\n",
    "## Sequels -> Caro"
   ]
  },
  {
   "cell_type": "markdown",
   "metadata": {},
   "source": [
    "___\n",
    "\n",
    "## Subgenre Production"
   ]
  },
  {
   "cell_type": "code",
   "execution_count": 17,
   "metadata": {},
   "outputs": [],
   "source": [
    "i+=1\n",
    "i=show_all(i=i,fig_lst=[cmu_subgenre_get_multi_pies(CMU_MOVIES_DS.df)])"
   ]
  },
  {
   "cell_type": "markdown",
   "metadata": {},
   "source": [
    "Depending on the movie where the movie is produced and associated, some genres have more success than others. For example if we were to make a comedy in the USA if we want to maximize our chances of success, we should make a “romance film” but in France we should make a “drama” comedy."
   ]
  },
  {
   "cell_type": "markdown",
   "metadata": {},
   "source": [
    "___\n",
    "## Title impact -> Caro world map"
   ]
  },
  {
   "cell_type": "markdown",
   "metadata": {},
   "source": [
    "# Part III. Timing is everything"
   ]
  },
  {
   "cell_type": "code",
   "execution_count": 18,
   "metadata": {},
   "outputs": [],
   "source": [
    "i+=1\n",
    "i=show_all(i=i,fig_lst=[cmu_monthly_get_rev(CMU_MOVIES_DS.df)])"
   ]
  },
  {
   "cell_type": "markdown",
   "metadata": {},
   "source": [
    "From the graph above we can see that if we want our movie to work well in the box office we should release it in the theaters in June. It would have been the same if it was not a comedy movie. \n",
    "\n",
    "Actually we can see that since the 1980’s the proportion of comedy movies released is much lower than the proportion of revenues that the comedy movies generate and thus they are a lucrative and popular kind of movies. "
   ]
  },
  {
   "cell_type": "code",
   "execution_count": 19,
   "metadata": {},
   "outputs": [],
   "source": [
    "i+=1\n",
    "i=show_all(i=i,fig_lst=[cmu_yearly_get_dual_trends(CMU_MOVIES_DS.df)])"
   ]
  },
  {
   "cell_type": "markdown",
   "metadata": {},
   "source": []
  },
  {
   "cell_type": "code",
   "execution_count": null,
   "metadata": {},
   "outputs": [],
   "source": []
  },
  {
   "cell_type": "code",
   "execution_count": null,
   "metadata": {},
   "outputs": [],
   "source": []
  },
  {
   "cell_type": "code",
   "execution_count": null,
   "metadata": {},
   "outputs": [],
   "source": []
  },
  {
   "cell_type": "code",
   "execution_count": null,
   "metadata": {},
   "outputs": [],
   "source": []
  },
  {
   "cell_type": "code",
   "execution_count": null,
   "metadata": {},
   "outputs": [],
   "source": []
  },
  {
   "cell_type": "code",
   "execution_count": null,
   "metadata": {},
   "outputs": [],
   "source": []
  },
  {
   "cell_type": "code",
   "execution_count": null,
   "metadata": {},
   "outputs": [],
   "source": []
  },
  {
   "cell_type": "code",
   "execution_count": null,
   "metadata": {},
   "outputs": [],
   "source": []
  },
  {
   "cell_type": "code",
   "execution_count": null,
   "metadata": {},
   "outputs": [],
   "source": []
  },
  {
   "cell_type": "code",
   "execution_count": null,
   "metadata": {},
   "outputs": [],
   "source": []
  }
 ],
 "metadata": {
  "kernelspec": {
   "display_name": "venv",
   "language": "python",
   "name": "python3"
  },
  "language_info": {
   "codemirror_mode": {
    "name": "ipython",
    "version": 3
   },
   "file_extension": ".py",
   "mimetype": "text/x-python",
   "name": "python",
   "nbconvert_exporter": "python",
   "pygments_lexer": "ipython3",
   "version": "3.10.12"
  }
 },
 "nbformat": 4,
 "nbformat_minor": 2
}
