{
 "cells": [
  {
   "cell_type": "markdown",
   "metadata": {},
   "source": [
    "# A comedy handbook - preliminary results and analysis\n",
    "\n",
    "In this notebook, you will find the preliminary results and code needed for Milestone 2 of the project. This same notebook will be updated for milestone 3 as the project progresses.\n",
    "\n",
    "The goal of this notebook is to showcase the feasability of the approaches mentionned in our report. It also contains a presentation of the various datasets we use, as well as the initial data cleaning and pre-processing done on them. "
   ]
  },
  {
   "cell_type": "markdown",
   "metadata": {},
   "source": [
    "## Imports and constants "
   ]
  },
  {
   "cell_type": "code",
   "execution_count": 1,
   "metadata": {},
   "outputs": [],
   "source": [
    "%load_ext autoreload\n",
    "%autoreload 2\n",
    "%matplotlib inline"
   ]
  },
  {
   "cell_type": "code",
   "execution_count": 2,
   "metadata": {},
   "outputs": [],
   "source": [
    "import pandas as pd\n",
    "import swifter # Looks unused but actually is through Monkey Patching -- don't delete\n",
    "import matplotlib.pyplot as plt\n",
    "import re\n",
    "import geopandas as gpd\n",
    "from src.utils.data_utils import ProjectDataset\n",
    "from tqdm import tqdm"
   ]
  },
  {
   "cell_type": "code",
   "execution_count": 3,
   "metadata": {},
   "outputs": [],
   "source": [
    "# Constants\n",
    "\n",
    "TEXT_SEPARATOR = \"_\" * 40\n",
    "# The following Color Palette is color-blind friendly, as has been carefully curated from Tol and IBM's specialized palettes (https://davidmathlogic.com/colorblind/)\n",
    "# You can play with it/visualize it here : https://coolors.co/332288-88ccee-e69f00-44aa99-f0e442-d55e00-882255-009e73 \n",
    "COLOR_PALETTE = [\"332288\",\"88ccee\",\"e69f00\",\"44aa99\",\"f0e442\",\"d55e00\",\"882255\",\"009e73\"]\n"
   ]
  },
  {
   "cell_type": "code",
   "execution_count": 4,
   "metadata": {},
   "outputs": [],
   "source": [
    "# Dataset setups\n",
    "RAW_DATA_FOLDER = \"data/raw/\"\n",
    "\n",
    "CMU_MOVIES_DS = ProjectDataset(RAW_DATA_FOLDER+\"movie.metadata.tsv\",\n",
    "                               \"CMU Movies\",\n",
    "                               \"Base dataset for ADA. Contains ~80K movies and their metadata.\",\n",
    "                               {\n",
    "                                    \"wikipedia_id\": \"A UID for the movie on Wikipedia.\",\n",
    "                                    \"freebase_id\": \"A UID for the movie in Freebase (https://freebase.toolforge.org/)\",\n",
    "                                    \"name\": \"The title of the movie.\",\n",
    "                                    \"release_date\": \"The date the movie was officially released. (<YEAR>, or <YYYY-MM-DD>)\",\n",
    "                                    \"box_office_revenue\": \"The total revenue of the movie\",\n",
    "                                    \"runtime\": \"The duration of the movie, minutes (float).\",\n",
    "                                    \"languages\": \"The languages spoken in the movie. Dict[<Freebase Language Identifier String>:<Language>]\",\n",
    "                                    \"countries\": \"The countries where the movie was produced or primarily associated. Dict[<Freebase Country Identifier String>:<Country>]\",\n",
    "                                    \"genres\": \"Movie genre(s), such as action, drama, comedy, ...\"\n",
    "                                }\n",
    ")\n",
    "\n",
    "CMU_CHARACTER_DS = ProjectDataset(RAW_DATA_FOLDER+\"character.metadata.tsv\",\n",
    "                                  \"CMU characters\",\n",
    "                                  \"Base dataset for ADA. Contains ~450K+ characters from movies, and their descriptions.\",\n",
    "                                  {\n",
    "                                        \"wikipedia_movie_id\": \"A UID for the movie the character comes from on Wikipedia.\",\n",
    "                                        \"freebase_movie_id\": \"A UID for the movie the character comes from on Freebase.\",\n",
    "                                        \"character_name\": \"The name of the character in the movie.\",\n",
    "                                        \"actor_dob\": \"The date of birth of the actor portraying the character.\",\n",
    "                                        \"actor_gender\": \"The gender of the actor portraying the character.\",\n",
    "                                        \"actor_height\": \"The height of the actor portraying the character, typically in centimeters or feet.\",\n",
    "                                        \"actor_ethnicity\": \"The ethnicity of the actor portraying the character.\",\n",
    "                                        \"actor_name\": \"The name of the actor portraying the character.\",\n",
    "                                        \"actor_age_at_movie_release\": \"The age of the actor at the time the movie was released.\",\n",
    "                                        \"freebase_character_map\": \"A unique identifier or mapping of the character in the Freebase database.\"\n",
    "                                    }\n",
    "                                  )\n",
    "\n",
    "MASSIVE_RT_MOVIE_DS = ProjectDataset(RAW_DATA_FOLDER+\"rotten_tomatoes_movies.csv\",\n",
    "                               \"Massive Rotten Tomatoes Movie metadata\",\n",
    "                               \"Dataset containing ~140K+ movies from RT\",\n",
    "                               {\n",
    "                                    \"id\": \"Unique identifier for each movie.\",\n",
    "                                    \"title\": \"The title of the movie.\",\n",
    "                                    \"audienceScore\": \"The average score given by regular viewers.\",\n",
    "                                    \"tomatoMeter\": \"The percentage of positive reviews from professional critics.\",\n",
    "                                    \"rating\": \"The movie's age-based classification (e.g., 'G', 'PG', 'PG-13', 'R').\",\n",
    "                                    \"ratingContents\": \"Reasons for the age-based classification.\",\n",
    "                                    \"releaseDateTheaters\": \"The date the movie was released in theaters.\",\n",
    "                                    \"releaseDateStreaming\": \"The date the movie became available for streaming.\",\n",
    "                                    \"runtimeMinutes\": \"The movie's duration in minutes.\",\n",
    "                                    \"genre\": \"The movie's genre(s).\"\n",
    "                                }\n",
    "                            )\n",
    "\n",
    "MASSIVE_RT_REVIEW_DS = ProjectDataset(RAW_DATA_FOLDER+\"rotten_tomatoes_movie_reviews.csv\",\n",
    "                               \"Massive Rotten Tomatoes Reviews\",\n",
    "                               \"Dataset containing ~1.4M+ reviews from RT\",                               {\n",
    "                                    \"id\": \"Unique identifier for each movie (matches the ID in the movies dataset).\",\n",
    "                                    \"revfdasadsfadsfadsfiewId\": \"Unique identifier for each critic review.\",\n",
    "                                    \"creationDate\": \"The date the review was published.\",\n",
    "                                    \"criticName\": \"Name of the critic who wrote the review.\",\n",
    "                                    \"isTopCritic\": \"Indicates if the critic is considered a 'Top Critic' (True or False).\",\n",
    "                                    \"originalScore\": \"The score provided by the critic.\",\n",
    "                                    \"reviewState\": \"The status of the review (e.g., 'fresh', 'rotten').\",\n",
    "                                    \"publicatioName\": \"The name of the publication where the review was published.\",\n",
    "                                    \"reviewText\": \"The full text of the critic review.\",\n",
    "                                    \"scoreSentiment\": \"The sentiment of the critic's score (e.g., 'positive', 'negative', 'neutral').\"\n",
    "                                }\n",
    "                            )\n",
    "\n",
    "RT_EXTRA_MOVIE_INFO_DS = ProjectDataset(RAW_DATA_FOLDER+\"movie_info.csv\",\n",
    "                                        \"Extra Rotten Tomatoes Movies\",\n",
    "                                        \"Extra scraped movie information from Rotten Tomatoes for ~12K major US releases between 1970 and 2024\",\n",
    "                                        {\n",
    "                                            \"title\": \"The title of the movie.\",\n",
    "                                            \"url\": \"RT link to the movie.\",\n",
    "                                            \"release_date\": \"Release date of the movie (format is one of ['Released <DATE as text>',<YEAR>]).\",\n",
    "                                            \"critic_score\": \"The rating given by professional critics.\",\n",
    "                                            \"audience_score\": \"The rating given by the general audience.\"\n",
    "                                        }\n",
    "                                    )\n",
    "\n",
    "ALL_DATASETS = [CMU_MOVIES_DS,CMU_CHARACTER_DS,MASSIVE_RT_MOVIE_DS,MASSIVE_RT_REVIEW_DS,RT_EXTRA_MOVIE_INFO_DS]"
   ]
  },
  {
   "cell_type": "code",
   "execution_count": 5,
   "metadata": {},
   "outputs": [
    {
     "name": "stdout",
     "output_type": "stream",
     "text": [
      "We will use 5 datasets in total, namely CMU Movies, CMU characters, Massive Rotten Tomatoes Movie metadata, Massive Rotten Tomatoes Reviews, Extra Rotten Tomatoes Movies.\n"
     ]
    }
   ],
   "source": [
    "print(f\"We will use {len(ALL_DATASETS)} datasets in total, namely {', '.join(str(ds) for ds in ALL_DATASETS)}.\")"
   ]
  },
  {
   "cell_type": "markdown",
   "metadata": {},
   "source": [
    "Here is a detailed description of what each datasets contains:\n"
   ]
  },
  {
   "cell_type": "code",
   "execution_count": 6,
   "metadata": {},
   "outputs": [
    {
     "name": "stderr",
     "output_type": "stream",
     "text": [
      "Preloading datasets...:   0%|          | 0/5 [00:00<?, ?it/s]"
     ]
    },
    {
     "name": "stderr",
     "output_type": "stream",
     "text": [
      "Preloading datasets...: 100%|██████████| 5/5 [00:05<00:00,  1.15s/it]\n"
     ]
    }
   ],
   "source": [
    "for dataset in tqdm(ALL_DATASETS,total=len(ALL_DATASETS),desc=\"Preloading datasets...\"):\n",
    "    _ = dataset.get_dataframe"
   ]
  },
  {
   "cell_type": "code",
   "execution_count": null,
   "metadata": {},
   "outputs": [],
   "source": []
  },
  {
   "cell_type": "markdown",
   "metadata": {},
   "source": [
    "##"
   ]
  }
 ],
 "metadata": {
  "kernelspec": {
   "display_name": "venv",
   "language": "python",
   "name": "python3"
  },
  "language_info": {
   "codemirror_mode": {
    "name": "ipython",
    "version": 3
   },
   "file_extension": ".py",
   "mimetype": "text/x-python",
   "name": "python",
   "nbconvert_exporter": "python",
   "pygments_lexer": "ipython3",
   "version": "3.10.12"
  }
 },
 "nbformat": 4,
 "nbformat_minor": 2
}
