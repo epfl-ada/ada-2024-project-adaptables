{
 "cells": [
  {
   "cell_type": "markdown",
   "metadata": {},
   "source": [
    "# A comedy handbook - preliminary results and analysis\n",
    "\n",
    "In this notebook, you will find the preliminary results and code needed for Milestone 2 of the project. This same notebook will be updated for milestone 3 as the project progresses.\n",
    "\n",
    "The goal of this notebook is to showcase the feasability of the approaches mentionned in our report. It also contains a presentation of the various datasets we use, as well as the initial data cleaning and pre-processing done on them. "
   ]
  },
  {
   "cell_type": "markdown",
   "metadata": {},
   "source": [
    "## Imports, constants and data loading"
   ]
  },
  {
   "cell_type": "code",
   "execution_count": 2,
   "metadata": {},
   "outputs": [],
   "source": [
    "%load_ext autoreload\n",
    "%autoreload 2\n",
    "%matplotlib inline"
   ]
  },
  {
   "cell_type": "code",
   "execution_count": 3,
   "metadata": {},
   "outputs": [
    {
     "name": "stderr",
     "output_type": "stream",
     "text": [
      "C:\\Users\\theol\\AppData\\Local\\Temp\\ipykernel_8716\\238086885.py:9: DeprecationWarning: the 'MARKDOWN' constant is deprecated, use the 'TableStyle' enum instead\n",
      "  from prettytable import PrettyTable,MARKDOWN\n"
     ]
    }
   ],
   "source": [
    "import pandas as pd\n",
    "import swifter # Looks unused but actually is through Monkey Patching -- don't delete\n",
    "import matplotlib.pyplot as plt\n",
    "import re\n",
    "import geopandas as gpd\n",
    "from src.utils.data_utils import *\n",
    "from src.utils.general_utils import *\n",
    "from tqdm import tqdm\n",
    "from prettytable import PrettyTable,MARKDOWN"
   ]
  },
  {
   "cell_type": "code",
   "execution_count": 4,
   "metadata": {},
   "outputs": [],
   "source": [
    "# Constants\n",
    "\n",
    "TEXT_SEPARATOR = \"_\" * 40\n",
    "# The following Color Palette is color-blind friendly, as has been carefully curated from Tol and IBM's specialized palettes (https://davidmathlogic.com/colorblind/)\n",
    "# You can play with it/visualize it here : https://coolors.co/332288-88ccee-e69f00-44aa99-f0e442-d55e00-882255-009e73 \n",
    "COLOR_PALETTE = [\"332288\",\"88ccee\",\"e69f00\",\"44aa99\",\"f0e442\",\"d55e00\",\"882255\",\"009e73\"]\n"
   ]
  },
  {
   "cell_type": "code",
   "execution_count": 5,
   "metadata": {},
   "outputs": [],
   "source": [
    "# Dataset setups\n",
    "RAW_DATA_FOLDER = \"data/raw/\"\n",
    "\n",
    "CMU_MOVIES_DS = ProjectDataset(RAW_DATA_FOLDER+\"movie.metadata.tsv\",\n",
    "                               \"CMU Movies\",\n",
    "                               \"Base dataset for ADA. Contains ~80K movies and their metadata.\",\n",
    "                               {\n",
    "                                    \"wikipedia_id\": \"A UID for the movie on Wikipedia.\",\n",
    "                                    \"freebase_id\": \"A UID for the movie in Freebase (https://freebase.toolforge.org/)\",\n",
    "                                    \"title\": \"The title of the movie.\",\n",
    "                                    \"release_date\": \"The date the movie was officially released. (<YEAR>, or <YYYY-MM-DD>)\",\n",
    "                                    \"box_office_revenue\": \"The total revenue of the movie\",\n",
    "                                    \"runtime\": \"The duration of the movie, minutes (float).\",\n",
    "                                    \"languages\": \"The languages spoken in the movie. Dict[<Freebase Language Identifier String>:<Language>]\",\n",
    "                                    \"countries\": \"The countries where the movie was produced or primarily associated. Dict[<Freebase Country Identifier String>:<Country>]\",\n",
    "                                    \"genres\": \"Movie genre(s), such as action, drama, comedy, ...\"\n",
    "                                }\n",
    ")\n",
    "\n",
    "CMU_CHARACTER_DS = ProjectDataset(RAW_DATA_FOLDER+\"character.metadata.tsv\",\n",
    "                                  \"CMU characters\",\n",
    "                                  \"Base dataset for ADA. Contains ~450K+ characters from movies, and their descriptions.\",\n",
    "                                  {\n",
    "                                        \"wikipedia_id\": \"A UID for the movie the character comes from on Wikipedia.\",\n",
    "                                        \"freebase_id\": \"A UID for the movie the character comes from on Freebase.\",\n",
    "                                        \"character_name\": \"The name of the character in the movie.\",\n",
    "                                        \"actor_dob\": \"The date of birth of the actor portraying the character.\",\n",
    "                                        \"actor_gender\": \"The gender of the actor portraying the character.\",\n",
    "                                        \"actor_height\": \"The height of the actor portraying the character, typically in centimeters or feet.\",\n",
    "                                        \"actor_ethnicity\": \"The ethnicity of the actor portraying the character.\",\n",
    "                                        \"actor_name\": \"The name of the actor portraying the character.\",\n",
    "                                        \"actor_age_at_movie_release\": \"The age of the actor at the time the movie was released.\",\n",
    "                                        \"freebase_character_map\": \"A unique identifier or mapping of the character in the Freebase database.\"\n",
    "                                    }\n",
    "                                  )\n",
    "\n",
    "CMU_PLOTS_DS = ProjectDataset(RAW_DATA_FOLDER+\"plot_summaries.txt\",\n",
    "                              \"CMU plots\",\n",
    "                              \"Base dataset for ADA. Contains a plot summary for each of the movie in the CMU Movies dataset\",\n",
    "                              {\n",
    "                                  \"wikipedia_id\":\"The UID corresponding to the movie\",\n",
    "                                  \"plot\": \"The (summarized) plot of the movie\"\n",
    "                              })\n",
    "\n",
    "MASSIVE_RT_MOVIE_DS = ProjectDataset(RAW_DATA_FOLDER+\"rotten_tomatoes_movies.csv\",\n",
    "                               \"Massive Rotten Tomatoes Movie metadata\",\n",
    "                               \"Dataset containing ~140K+ movies from RT\",\n",
    "                               {\n",
    "                                    \"id\": \"Unique identifier for each movie.\",\n",
    "                                    \"title\": \"The title of the movie.\",\n",
    "                                    \"audienceScore\": \"The average score given by regular viewers.\",\n",
    "                                    \"tomatoMeter\": \"The percentage of positive reviews from professional critics.\",\n",
    "                                    \"rating\": \"The movie's age-based classification (e.g., 'G', 'PG', 'PG-13', 'R').\",\n",
    "                                    \"ratingContents\": \"Reasons for the age-based classification.\",\n",
    "                                    \"releaseDateTheaters\": \"The date the movie was released in theaters.\",\n",
    "                                    \"releaseDateStreaming\": \"The date the movie became available for streaming.\",\n",
    "                                    \"runtimeMinutes\": \"The movie's duration in minutes.\",\n",
    "                                    \"genre\": \"The movie's genre(s).\",\n",
    "                                    \"originalLanguage\": \"The original language of the movie.\",\n",
    "                                    \"director\": \"The director(s) of the movie.\",\n",
    "                                    \"writer\": \"The writer(s) of the movie.\",\n",
    "                                    \"boxOffice\": \"The total box office earnings of the movie.\",\n",
    "                                    \"distributor\": \"The company responsible for distributing the movie.\",\n",
    "                                    \"soundMix\": \"The sound mixing format(s) used in the movie.\"\n",
    "                                }\n",
    "                            )\n",
    "\n",
    "MASSIVE_RT_REVIEW_DS = ProjectDataset(RAW_DATA_FOLDER+\"rotten_tomatoes_movie_reviews.csv\",\n",
    "                               \"Massive Rotten Tomatoes Reviews\",\n",
    "                               \"Dataset containing ~1.4M+ reviews from RT\",                               \n",
    "                               {\n",
    "                                    \"id\": \"Unique identifier for each movie (matches the ID in the movies dataset).\",\n",
    "                                    \"reviewId\": \"Unique identifier for each critic review.\",\n",
    "                                    \"creationDate\": \"The date the review was published.\",\n",
    "                                    \"criticName\": \"Name of the critic who wrote the review.\",\n",
    "                                    \"isTopCritic\": \"Indicates if the critic is considered a 'Top Critic' (True or False).\",\n",
    "                                    \"originalScore\": \"The score provided by the critic.\",\n",
    "                                    \"reviewState\": \"The status of the review (e.g., 'fresh', 'rotten').\",\n",
    "                                    \"publicatioName\": \"The name of the publication where the review was published.\",\n",
    "                                    \"reviewText\": \"The full text of the critic review.\",\n",
    "                                    \"scoreSentiment\": \"The sentiment of the critic's score (e.g., 'positive', 'negative', 'neutral').\",\n",
    "                                    \"reviewUrl\": \"The url of the review\"\n",
    "                                }\n",
    "                            )\n",
    "\n",
    "RT_EXTRA_MOVIE_INFO_DS = ProjectDataset(RAW_DATA_FOLDER+\"movie_info.csv\",\n",
    "                                        \"Extra Rotten Tomatoes Movies\",\n",
    "                                        \"Extra scraped movie information from Rotten Tomatoes for ~12K major US releases between 1970 and 2024\",\n",
    "                                        {\n",
    "                                            \"title\": \"The title of the movie.\",\n",
    "                                            \"url\": \"RT link to the movie.\",\n",
    "                                            \"release_date\": \"Release date of the movie (format is one of ['Released <DATE as text>',<YEAR>]).\",\n",
    "                                            \"critic_score\": \"The rating given by professional critics.\",\n",
    "                                            \"audience_score\": \"The rating given by the general audience.\"\n",
    "                                        }\n",
    "                                    )\n",
    "\n",
    "OSCAR_AWARDS_DS = ProjectDataset(RAW_DATA_FOLDER+\"the_oscar_award.csv\",\n",
    "                                    \"Oscard Awards\",\n",
    "                                    \"A scrape of The Academy Awards Database, recorded of past Academy Award winners and nominees between 1927 and 2024.\",\n",
    "                                    {\n",
    "                                        \"year_film\": \"The year the film was released.\",\n",
    "                                        \"year_ceremony\": \"The year the cermenoy was held and the movie/person was nominated.\",\n",
    "                                        \"ceremony\": \"The number of the ceremony.\",\n",
    "                                        \"category\": \"The nomination category (e.g.: best music, documentary, writing, ...).\",\n",
    "                                        \"name\": \"The name of the nominee/movie.\",\n",
    "                                        \"film\": \"The title of the film for which the nominee was considered. Same as `name` whenever the whole film is nominated\",\n",
    "                                        \"winner\": \"True or False, whether the nominated row won.\"\n",
    "                                    }\n",
    "                                )\n",
    "\n",
    "ALL_DATASETS = [CMU_MOVIES_DS,CMU_CHARACTER_DS,CMU_PLOTS_DS,MASSIVE_RT_MOVIE_DS,MASSIVE_RT_REVIEW_DS,RT_EXTRA_MOVIE_INFO_DS,OSCAR_AWARDS_DS]"
   ]
  },
  {
   "cell_type": "code",
   "execution_count": 6,
   "metadata": {},
   "outputs": [
    {
     "name": "stdout",
     "output_type": "stream",
     "text": [
      "We will use 7 datasets in total, namely CMU Movies, CMU characters, CMU plots, Massive Rotten Tomatoes Movie metadata, Massive Rotten Tomatoes Reviews, Extra Rotten Tomatoes Movies, Oscard Awards.\n"
     ]
    }
   ],
   "source": [
    "print(f\"We will use {len(ALL_DATASETS)} datasets in total, namely {', '.join(str(ds) for ds in ALL_DATASETS)}.\")"
   ]
  },
  {
   "cell_type": "markdown",
   "metadata": {},
   "source": [
    "Here is a detailed description of what each datasets contains:\n"
   ]
  },
  {
   "cell_type": "code",
   "execution_count": 7,
   "metadata": {},
   "outputs": [
    {
     "name": "stdout",
     "output_type": "stream",
     "text": [
      "- 1️⃣ \u001b[4mCMU Movies\u001b[0m\n",
      "\n",
      "Base dataset for ADA. Contains ~80K movies and their metadata.\n",
      "\n",
      "+--------------------+------------------------------------------+\n",
      "|   Column/Fearure   | Description                              |\n",
      "+--------------------+------------------------------------------+\n",
      "|    wikipedia_id    | A UID for the movie on Wikipedia.        |\n",
      "|                    |                                          |\n",
      "|    freebase_id     | A UID for the movie in Freebase          |\n",
      "|                    | (https://freebase.toolforge.org/)        |\n",
      "|                    |                                          |\n",
      "|       title        | The title of the movie.                  |\n",
      "|                    |                                          |\n",
      "|    release_date    | The date the movie was officially        |\n",
      "|                    | released. (<YEAR>, or <YYYY-MM-DD>)      |\n",
      "|                    |                                          |\n",
      "| box_office_revenue | The total revenue of the movie           |\n",
      "|                    |                                          |\n",
      "|      runtime       | The duration of the movie, minutes       |\n",
      "|                    | (float).                                 |\n",
      "|                    |                                          |\n",
      "|     languages      | The languages spoken in the movie.       |\n",
      "|                    | Dict[<Freebase Language Identifier       |\n",
      "|                    | String>:<Language>]                      |\n",
      "|                    |                                          |\n",
      "|     countries      | The countries where the movie was        |\n",
      "|                    | produced or primarily associated.        |\n",
      "|                    | Dict[<Freebase Country Identifier        |\n",
      "|                    | String>:<Country>]                       |\n",
      "|                    |                                          |\n",
      "|       genres       | Movie genre(s), such as action, drama,   |\n",
      "|                    | comedy, ...                              |\n",
      "|                    |                                          |\n",
      "+--------------------+------------------------------------------+\n",
      "\n",
      "\n",
      "- 2️⃣ \u001b[4mCMU characters\u001b[0m\n",
      "\n",
      "Base dataset for ADA. Contains ~450K+ characters from movies, and their descriptions.\n",
      "\n",
      "+----------------------------+------------------------------------------+\n",
      "|       Column/Fearure       | Description                              |\n",
      "+----------------------------+------------------------------------------+\n",
      "|        wikipedia_id        | A UID for the movie the character comes  |\n",
      "|                            | from on Wikipedia.                       |\n",
      "|                            |                                          |\n",
      "|        freebase_id         | A UID for the movie the character comes  |\n",
      "|                            | from on Freebase.                        |\n",
      "|                            |                                          |\n",
      "|       character_name       | The name of the character in the movie.  |\n",
      "|                            |                                          |\n",
      "|         actor_dob          | The date of birth of the actor           |\n",
      "|                            | portraying the character.                |\n",
      "|                            |                                          |\n",
      "|        actor_gender        | The gender of the actor portraying the   |\n",
      "|                            | character.                               |\n",
      "|                            |                                          |\n",
      "|        actor_height        | The height of the actor portraying the   |\n",
      "|                            | character, typically in centimeters or   |\n",
      "|                            | feet.                                    |\n",
      "|                            |                                          |\n",
      "|      actor_ethnicity       | The ethnicity of the actor portraying    |\n",
      "|                            | the character.                           |\n",
      "|                            |                                          |\n",
      "|         actor_name         | The name of the actor portraying the     |\n",
      "|                            | character.                               |\n",
      "|                            |                                          |\n",
      "| actor_age_at_movie_release | The age of the actor at the time the     |\n",
      "|                            | movie was released.                      |\n",
      "|                            |                                          |\n",
      "|   freebase_character_map   | A unique identifier or mapping of the    |\n",
      "|                            | character in the Freebase database.      |\n",
      "|                            |                                          |\n",
      "+----------------------------+------------------------------------------+\n",
      "\n",
      "\n",
      "- 3️⃣ \u001b[4mCMU plots\u001b[0m\n",
      "\n",
      "Base dataset for ADA. Contains a plot summary for each of the movie in the CMU Movies dataset\n",
      "\n",
      "+----------------+------------------------------------+\n",
      "| Column/Fearure | Description                        |\n",
      "+----------------+------------------------------------+\n",
      "|  wikipedia_id  | The UID corresponding to the movie |\n",
      "|                |                                    |\n",
      "|      plot      | The (summarized) plot of the movie |\n",
      "|                |                                    |\n",
      "+----------------+------------------------------------+\n",
      "\n",
      "\n",
      "- 4️⃣ \u001b[4mMassive Rotten Tomatoes Movie metadata\u001b[0m\n",
      "\n",
      "Dataset containing ~140K+ movies from RT\n",
      "\n",
      "+----------------------+------------------------------------------+\n",
      "|    Column/Fearure    | Description                              |\n",
      "+----------------------+------------------------------------------+\n",
      "|          id          | Unique identifier for each movie.        |\n",
      "|                      |                                          |\n",
      "|        title         | The title of the movie.                  |\n",
      "|                      |                                          |\n",
      "|    audienceScore     | The average score given by regular       |\n",
      "|                      | viewers.                                 |\n",
      "|                      |                                          |\n",
      "|     tomatoMeter      | The percentage of positive reviews from  |\n",
      "|                      | professional critics.                    |\n",
      "|                      |                                          |\n",
      "|        rating        | The movie's age-based classification     |\n",
      "|                      | (e.g., 'G', 'PG', 'PG-13', 'R').         |\n",
      "|                      |                                          |\n",
      "|    ratingContents    | Reasons for the age-based                |\n",
      "|                      | classification.                          |\n",
      "|                      |                                          |\n",
      "| releaseDateTheaters  | The date the movie was released in       |\n",
      "|                      | theaters.                                |\n",
      "|                      |                                          |\n",
      "| releaseDateStreaming | The date the movie became available for  |\n",
      "|                      | streaming.                               |\n",
      "|                      |                                          |\n",
      "|    runtimeMinutes    | The movie's duration in minutes.         |\n",
      "|                      |                                          |\n",
      "|        genre         | The movie's genre(s).                    |\n",
      "|                      |                                          |\n",
      "|   originalLanguage   | The original language of the movie.      |\n",
      "|                      |                                          |\n",
      "|       director       | The director(s) of the movie.            |\n",
      "|                      |                                          |\n",
      "|        writer        | The writer(s) of the movie.              |\n",
      "|                      |                                          |\n",
      "|      boxOffice       | The total box office earnings of the     |\n",
      "|                      | movie.                                   |\n",
      "|                      |                                          |\n",
      "|     distributor      | The company responsible for distributing |\n",
      "|                      | the movie.                               |\n",
      "|                      |                                          |\n",
      "|       soundMix       | The sound mixing format(s) used in the   |\n",
      "|                      | movie.                                   |\n",
      "|                      |                                          |\n",
      "+----------------------+------------------------------------------+\n",
      "\n",
      "\n",
      "- 5️⃣ \u001b[4mMassive Rotten Tomatoes Reviews\u001b[0m\n",
      "\n",
      "Dataset containing ~1.4M+ reviews from RT\n",
      "\n",
      "+----------------+------------------------------------------+\n",
      "| Column/Fearure | Description                              |\n",
      "+----------------+------------------------------------------+\n",
      "|       id       | Unique identifier for each movie         |\n",
      "|                | (matches the ID in the movies dataset).  |\n",
      "|                |                                          |\n",
      "|    reviewId    | Unique identifier for each critic        |\n",
      "|                | review.                                  |\n",
      "|                |                                          |\n",
      "|  creationDate  | The date the review was published.       |\n",
      "|                |                                          |\n",
      "|   criticName   | Name of the critic who wrote the review. |\n",
      "|                |                                          |\n",
      "|  isTopCritic   | Indicates if the critic is considered a  |\n",
      "|                | 'Top Critic' (True or False).            |\n",
      "|                |                                          |\n",
      "| originalScore  | The score provided by the critic.        |\n",
      "|                |                                          |\n",
      "|  reviewState   | The status of the review (e.g., 'fresh', |\n",
      "|                | 'rotten').                               |\n",
      "|                |                                          |\n",
      "| publicatioName | The name of the publication where the    |\n",
      "|                | review was published.                    |\n",
      "|                |                                          |\n",
      "|   reviewText   | The full text of the critic review.      |\n",
      "|                |                                          |\n",
      "| scoreSentiment | The sentiment of the critic's score      |\n",
      "|                | (e.g., 'positive', 'negative',           |\n",
      "|                | 'neutral').                              |\n",
      "|                |                                          |\n",
      "|   reviewUrl    | The url of the review                    |\n",
      "|                |                                          |\n",
      "+----------------+------------------------------------------+\n",
      "\n",
      "\n",
      "- 6️⃣ \u001b[4mExtra Rotten Tomatoes Movies\u001b[0m\n",
      "\n",
      "Extra scraped movie information from Rotten Tomatoes for ~12K major US releases between 1970 and 2024\n",
      "\n",
      "+----------------+------------------------------------------+\n",
      "| Column/Fearure | Description                              |\n",
      "+----------------+------------------------------------------+\n",
      "|     title      | The title of the movie.                  |\n",
      "|                |                                          |\n",
      "|      url       | RT link to the movie.                    |\n",
      "|                |                                          |\n",
      "|  release_date  | Release date of the movie (format is one |\n",
      "|                | of ['Released <DATE as text>',<YEAR>]).  |\n",
      "|                |                                          |\n",
      "|  critic_score  | The rating given by professional         |\n",
      "|                | critics.                                 |\n",
      "|                |                                          |\n",
      "| audience_score | The rating given by the general          |\n",
      "|                | audience.                                |\n",
      "|                |                                          |\n",
      "+----------------+------------------------------------------+\n",
      "\n",
      "\n",
      "- 7️⃣ \u001b[4mOscard Awards\u001b[0m\n",
      "\n",
      "A scrape of The Academy Awards Database, recorded of past Academy Award winners and nominees between 1927 and 2024.\n",
      "\n",
      "+----------------+------------------------------------------+\n",
      "| Column/Fearure | Description                              |\n",
      "+----------------+------------------------------------------+\n",
      "|   year_film    | The year the film was released.          |\n",
      "|                |                                          |\n",
      "| year_ceremony  | The year the cermenoy was held and the   |\n",
      "|                | movie/person was nominated.              |\n",
      "|                |                                          |\n",
      "|    ceremony    | The number of the ceremony.              |\n",
      "|                |                                          |\n",
      "|    category    | The nomination category (e.g.: best      |\n",
      "|                | music, documentary, writing, ...).       |\n",
      "|                |                                          |\n",
      "|      name      | The name of the nominee/movie.           |\n",
      "|                |                                          |\n",
      "|      film      | The title of the film for which the      |\n",
      "|                | nominee was considered. Same as `name`   |\n",
      "|                | whenever the whole film is nominated     |\n",
      "|                |                                          |\n",
      "|     winner     | True or False, whether the nominated row |\n",
      "|                | won.                                     |\n",
      "|                |                                          |\n",
      "+----------------+------------------------------------------+\n",
      "\n",
      "\n"
     ]
    }
   ],
   "source": [
    "for i,ds in enumerate(ALL_DATASETS):\n",
    "    print(f\"- {number_to_emoji(i+1)} \\033[4m{ds.name}\\033[0m\\n\")\n",
    "    print(f\"{ds.description}\\n\")\n",
    "    table = PrettyTable()\n",
    "    table.field_names = [\"Column/Fearure\", \"Description\"]\n",
    "    table.align['Description'] = 'l'\n",
    "    table.max_width[\"Description\"] = 40\n",
    "    \n",
    "    for column_name, column_description in ds.columns_descriptions.items():\n",
    "        table.add_row([column_name, column_description+'\\n'])\n",
    "\n",
    "    print(table)\n",
    "    print(\"\\n\")\n",
    "\n"
   ]
  },
  {
   "cell_type": "code",
   "execution_count": 8,
   "metadata": {},
   "outputs": [
    {
     "name": "stderr",
     "output_type": "stream",
     "text": [
      "Preloading datasets...: 100%|██████████| 7/7 [00:19<00:00,  2.71s/it]\n"
     ]
    }
   ],
   "source": [
    "for dataset in tqdm(ALL_DATASETS,total=len(ALL_DATASETS),desc=\"Preloading datasets...\"):\n",
    "    _ = dataset.df"
   ]
  },
  {
   "cell_type": "markdown",
   "metadata": {},
   "source": [
    "## Data handling\n",
    "\n",
    "In this section, we will now show that our various approaches are feasible, by providing a small Proof of Concept for each type of approach. The results here are by no means our final results (of our final data story), but rather a intermediate viability checkpoint."
   ]
  },
  {
   "cell_type": "markdown",
   "metadata": {},
   "source": [
    "##"
   ]
  },
  {
   "cell_type": "markdown",
   "metadata": {},
   "source": [
    "### Quality analysis\n",
    "\n",
    "In order to access useful indicators of popularity and perform our quality analysis we extend our initial dataset with several \"Rotten Tomatoes\" dataset. The useful indicators we want to study here are : the box-office, the expert critic reviews, the expert critic score, the movie rewards. In comparison with the popularity analysis, the reviews and scores used are the ones given by experts.\n",
    "We start by selecting the useful data in each dataset and we merge appropriate datasets to asses the feasability of exploitation. The size and content of the merges enbale us to discuss the possibility to assess the next operations, for example statistical analysis.\n"
   ]
  },
  {
   "cell_type": "code",
   "execution_count": 9,
   "metadata": {},
   "outputs": [
    {
     "name": "stdout",
     "output_type": "stream",
     "text": [
      "0.8392791297935103\n"
     ]
    }
   ],
   "source": [
    "useful_col = ['wikipedia_id','title','box_office_revenue','genres']\n",
    "unfiltered_df_box_office = CMU_MOVIES_DS.df[useful_col]\n",
    "df_box_office = unfiltered_df_box_office[unfiltered_df_box_office['genres'].str.contains('comedy', case=False, na=False)]\n",
    "count_na = df_box_office['box_office_revenue'].isna().sum()\n",
    "print(count_na/len(df_box_office))"
   ]
  },
  {
   "cell_type": "markdown",
   "metadata": {},
   "source": [
    "In the initial dataset the number of missing box-office values is very high, about 84% of the movies are missing a box-office value."
   ]
  },
  {
   "cell_type": "markdown",
   "metadata": {},
   "source": [
    "Standardizing the movie names is necessary to improve the accuracy of the merges between the different dataframes. "
   ]
  },
  {
   "cell_type": "code",
   "execution_count": 10,
   "metadata": {},
   "outputs": [],
   "source": [
    "def standardize_title(title):\n",
    "    if not isinstance(title, str):\n",
    "        return None\n",
    "    title = title.lower()\n",
    "    title = re.sub(r'[^a-z0-9\\s]', '', title)\n",
    "    title = re.sub(r'\\s+', ' ', title).strip()\n",
    "    return title\n",
    "\n",
    "df_raw_rt_rev = MASSIVE_RT_REVIEW_DS.df\n",
    "df_raw_rt = MASSIVE_RT_MOVIE_DS.df\n",
    "\n",
    "df_short_rt = df_raw_rt_rev[[\"id\",\"isTopCritic\",\"originalScore\",\"scoreSentiment\"]]\n",
    "df_id_title = df_raw_rt[[\"id\",\"title\"]]"
   ]
  },
  {
   "cell_type": "code",
   "execution_count": 11,
   "metadata": {},
   "outputs": [
    {
     "name": "stderr",
     "output_type": "stream",
     "text": [
      "C:\\Users\\theol\\AppData\\Local\\Temp\\ipykernel_8716\\527676767.py:4: SettingWithCopyWarning: \n",
      "A value is trying to be set on a copy of a slice from a DataFrame.\n",
      "Try using .loc[row_indexer,col_indexer] = value instead\n",
      "\n",
      "See the caveats in the documentation: https://pandas.pydata.org/pandas-docs/stable/user_guide/indexing.html#returning-a-view-versus-a-copy\n",
      "  df_box_office[\"title\"] = df_box_office[\"title\"].apply(standardize_title)\n"
     ]
    },
    {
     "name": "stdout",
     "output_type": "stream",
     "text": [
      "Number of comedies : 5340\n"
     ]
    }
   ],
   "source": [
    "merged_raws = pd.merge(df_id_title, df_short_rt, on= \"id\", how=\"inner\")\n",
    "\n",
    "merged_raws[\"title\"] = merged_raws[\"title\"].apply(standardize_title)\n",
    "df_box_office[\"title\"] = df_box_office[\"title\"].apply(standardize_title)\n",
    "\n",
    "merge_big_dfs = pd.merge(df_box_office, merged_raws, on='title', how='inner')\n",
    "merge_big_dfs = merge_big_dfs.drop_duplicates()\n",
    "merge_big_dfs = merge_big_dfs[merge_big_dfs[\"originalScore\"].notna()].copy()\n",
    "df_expert_critics = merge_big_dfs[merge_big_dfs[\"isTopCritic\"]==True]\n",
    "list_movies = df_expert_critics[\"title\"].unique() \n",
    "print(f\"Number of comedies : {len(list_movies)}\")"
   ]
  },
  {
   "cell_type": "markdown",
   "metadata": {},
   "source": [
    "The merge of the initial dataset with the 'big' Rotten tomatoes one gives an exploitable dataset : 5340 comedies with critic score and reviews. There are still some missing values (=NaN) on the box office column from the initial dataset, these missing values will be completed with another dataset."
   ]
  },
  {
   "cell_type": "code",
   "execution_count": 13,
   "metadata": {},
   "outputs": [],
   "source": [
    "df_plot = CMU_PLOTS_DS.df\n",
    "df_1st_plot = CMU_PLOTS_DS.df.head(5)"
   ]
  },
  {
   "cell_type": "code",
   "execution_count": 21,
   "metadata": {},
   "outputs": [
    {
     "ename": "KeyboardInterrupt",
     "evalue": "",
     "output_type": "error",
     "traceback": [
      "\u001b[1;31m---------------------------------------------------------------------------\u001b[0m",
      "\u001b[1;31mValueError\u001b[0m                                Traceback (most recent call last)",
      "\u001b[1;32mc:\\Users\\theol\\anaconda3\\envs\\ada\\Lib\\site-packages\\swifter\\swifter.py\u001b[0m in \u001b[0;36m?\u001b[1;34m(self, func, convert_dtype, args, **kwds)\u001b[0m\n\u001b[0;32m    318\u001b[0m         \u001b[1;32mexcept\u001b[0m \u001b[0mERRORS_TO_HANDLE\u001b[0m\u001b[1;33m:\u001b[0m  \u001b[1;31m# if can't vectorize, estimate time to pandas apply\u001b[0m\u001b[1;33m\u001b[0m\u001b[1;33m\u001b[0m\u001b[0m\n\u001b[0;32m    319\u001b[0m             \u001b[0mwrapped\u001b[0m \u001b[1;33m=\u001b[0m \u001b[0mself\u001b[0m\u001b[1;33m.\u001b[0m\u001b[0m_wrapped_apply\u001b[0m\u001b[1;33m(\u001b[0m\u001b[0mfunc\u001b[0m\u001b[1;33m,\u001b[0m \u001b[0mconvert_dtype\u001b[0m\u001b[1;33m=\u001b[0m\u001b[0mconvert_dtype\u001b[0m\u001b[1;33m,\u001b[0m \u001b[0margs\u001b[0m\u001b[1;33m=\u001b[0m\u001b[0margs\u001b[0m\u001b[1;33m,\u001b[0m \u001b[1;33m**\u001b[0m\u001b[0mkwds\u001b[0m\u001b[1;33m)\u001b[0m\u001b[1;33m\u001b[0m\u001b[1;33m\u001b[0m\u001b[0m\n\u001b[1;32m--> 320\u001b[1;33m             \u001b[0mtimed\u001b[0m \u001b[1;33m=\u001b[0m \u001b[0mtimeit\u001b[0m\u001b[1;33m.\u001b[0m\u001b[0mtimeit\u001b[0m\u001b[1;33m(\u001b[0m\u001b[0mwrapped\u001b[0m\u001b[1;33m,\u001b[0m \u001b[0mnumber\u001b[0m\u001b[1;33m=\u001b[0m\u001b[0mN_REPEATS\u001b[0m\u001b[1;33m)\u001b[0m\u001b[1;33m\u001b[0m\u001b[1;33m\u001b[0m\u001b[0m\n\u001b[0m\u001b[0;32m    321\u001b[0m             \u001b[0msample_proc_est\u001b[0m \u001b[1;33m=\u001b[0m \u001b[0mtimed\u001b[0m \u001b[1;33m/\u001b[0m \u001b[0mN_REPEATS\u001b[0m\u001b[1;33m\u001b[0m\u001b[1;33m\u001b[0m\u001b[0m\n",
      "\u001b[1;32m~\\AppData\\Local\\Temp\\ipykernel_73368\\344620163.py\u001b[0m in \u001b[0;36m?\u001b[1;34m(x)\u001b[0m\n\u001b[1;32m---> 19\u001b[1;33m     \u001b[1;32mlambda\u001b[0m \u001b[0mx\u001b[0m\u001b[1;33m:\u001b[0m \u001b[0mpd\u001b[0m\u001b[1;33m.\u001b[0m\u001b[0mSeries\u001b[0m\u001b[1;33m(\u001b[0m\u001b[0mget_one_sentiment_classification\u001b[0m\u001b[1;33m(\u001b[0m\u001b[0mx\u001b[0m\u001b[1;33m)\u001b[0m\u001b[1;33m)\u001b[0m\u001b[1;33m\u001b[0m\u001b[1;33m\u001b[0m\u001b[0m\n\u001b[0m",
      "\u001b[1;32m~\\AppData\\Local\\Temp\\ipykernel_73368\\344620163.py\u001b[0m in \u001b[0;36m?\u001b[1;34m(text)\u001b[0m\n\u001b[0;32m      4\u001b[0m     \u001b[0magent\u001b[0m \u001b[1;33m=\u001b[0m \u001b[0mLLMfx\u001b[0m\u001b[1;33m(\u001b[0m\u001b[0mverbose\u001b[0m\u001b[1;33m=\u001b[0m\u001b[1;32mTrue\u001b[0m\u001b[1;33m)\u001b[0m\u001b[1;33m\u001b[0m\u001b[1;33m\u001b[0m\u001b[0m\n\u001b[0;32m      5\u001b[0m     \u001b[0magent\u001b[0m\u001b[1;33m.\u001b[0m\u001b[0mload_tool\u001b[0m\u001b[1;33m(\u001b[0m\u001b[1;34m\"sentiment\"\u001b[0m\u001b[1;33m)\u001b[0m\u001b[1;33m\u001b[0m\u001b[1;33m\u001b[0m\u001b[0m\n\u001b[1;32m----> 6\u001b[1;33m     \u001b[0msentiment\u001b[0m \u001b[1;33m=\u001b[0m \u001b[0magent\u001b[0m\u001b[1;33m.\u001b[0m\u001b[0msentiment\u001b[0m\u001b[1;33m(\u001b[0m\u001b[0mtext\u001b[0m\u001b[1;33m)\u001b[0m\u001b[1;33m\u001b[0m\u001b[1;33m\u001b[0m\u001b[0m\n\u001b[0m\u001b[0;32m      7\u001b[0m \u001b[1;33m\u001b[0m\u001b[0m\n",
      "\u001b[1;32mc:\\Users\\theol\\anaconda3\\envs\\ada\\Lib\\site-packages\\llmware\\agents.py\u001b[0m in \u001b[0;36m?\u001b[1;34m(self, text, params)\u001b[0m\n\u001b[0;32m    698\u001b[0m             \u001b[0mparams\u001b[0m \u001b[1;33m=\u001b[0m \u001b[1;33m[\u001b[0m\u001b[0mparams\u001b[0m\u001b[1;33m]\u001b[0m\u001b[1;33m\u001b[0m\u001b[1;33m\u001b[0m\u001b[0m\n\u001b[0;32m    699\u001b[0m \u001b[1;33m\u001b[0m\u001b[0m\n\u001b[1;32m--> 700\u001b[1;33m         \u001b[1;32mreturn\u001b[0m \u001b[0mself\u001b[0m\u001b[1;33m.\u001b[0m\u001b[0mexec_function_call\u001b[0m\u001b[1;33m(\u001b[0m\u001b[1;34m\"sentiment\"\u001b[0m\u001b[1;33m,\u001b[0m \u001b[0mtext\u001b[0m\u001b[1;33m=\u001b[0m\u001b[0mtext\u001b[0m\u001b[1;33m,\u001b[0m \u001b[0mparams\u001b[0m\u001b[1;33m=\u001b[0m\u001b[0mparams\u001b[0m\u001b[1;33m)\u001b[0m\u001b[1;33m\u001b[0m\u001b[1;33m\u001b[0m\u001b[0m\n\u001b[0m",
      "\u001b[1;32mc:\\Users\\theol\\anaconda3\\envs\\ada\\Lib\\site-packages\\llmware\\agents.py\u001b[0m in \u001b[0;36m?\u001b[1;34m(self, tool_type, text, function, params, get_logits)\u001b[0m\n\u001b[0;32m    536\u001b[0m             \u001b[0mself\u001b[0m\u001b[1;33m.\u001b[0m\u001b[0mwrite_to_journal\u001b[0m\u001b[1;33m(\u001b[0m\u001b[0mjournal_update\u001b[0m\u001b[1;33m)\u001b[0m\u001b[1;33m\u001b[0m\u001b[1;33m\u001b[0m\u001b[0m\n\u001b[0;32m    537\u001b[0m \u001b[1;33m\u001b[0m\u001b[0m\n\u001b[1;32m--> 538\u001b[1;33m             \u001b[1;32mif\u001b[0m \u001b[0mtext\u001b[0m\u001b[1;33m:\u001b[0m\u001b[1;33m\u001b[0m\u001b[1;33m\u001b[0m\u001b[0m\n\u001b[0m\u001b[0;32m    539\u001b[0m                 \u001b[1;31m# if text passed directly, then add to work queue\u001b[0m\u001b[1;33m\u001b[0m\u001b[1;33m\u001b[0m\u001b[0m\n",
      "\u001b[1;32mc:\\Users\\theol\\anaconda3\\envs\\ada\\Lib\\site-packages\\pandas\\core\\generic.py\u001b[0m in \u001b[0;36m?\u001b[1;34m(self)\u001b[0m\n\u001b[0;32m   1575\u001b[0m     \u001b[1;33m@\u001b[0m\u001b[0mfinal\u001b[0m\u001b[1;33m\u001b[0m\u001b[1;33m\u001b[0m\u001b[0m\n\u001b[0;32m   1576\u001b[0m     \u001b[1;32mdef\u001b[0m \u001b[0m__nonzero__\u001b[0m\u001b[1;33m(\u001b[0m\u001b[0mself\u001b[0m\u001b[1;33m)\u001b[0m \u001b[1;33m->\u001b[0m \u001b[0mNoReturn\u001b[0m\u001b[1;33m:\u001b[0m\u001b[1;33m\u001b[0m\u001b[1;33m\u001b[0m\u001b[0m\n\u001b[1;32m-> 1577\u001b[1;33m         raise ValueError(\n\u001b[0m\u001b[0;32m   1578\u001b[0m             \u001b[1;34mf\"The truth value of a {type(self).__name__} is ambiguous. \"\u001b[0m\u001b[1;33m\u001b[0m\u001b[1;33m\u001b[0m\u001b[0m\n",
      "\u001b[1;31mValueError\u001b[0m: The truth value of a Series is ambiguous. Use a.empty, a.bool(), a.item(), a.any() or a.all().",
      "\nDuring handling of the above exception, another exception occurred:\n",
      "\u001b[1;31mKeyboardInterrupt\u001b[0m                         Traceback (most recent call last)",
      "\u001b[1;32m~\\AppData\\Local\\Temp\\ipykernel_73368\\344620163.py\u001b[0m in \u001b[0;36m?\u001b[1;34m()\u001b[0m\n\u001b[0;32m     14\u001b[0m \u001b[1;33m\u001b[0m\u001b[0m\n\u001b[0;32m     15\u001b[0m     \u001b[1;32mreturn\u001b[0m \u001b[0msentiment_value\u001b[0m\u001b[1;33m,\u001b[0m \u001b[0mconfidence_level\u001b[0m\u001b[1;33m\u001b[0m\u001b[1;33m\u001b[0m\u001b[0m\n\u001b[0;32m     16\u001b[0m \u001b[1;33m\u001b[0m\u001b[0m\n\u001b[0;32m     17\u001b[0m \u001b[1;31m# Application of the analysis on the plots\u001b[0m\u001b[1;33m\u001b[0m\u001b[1;33m\u001b[0m\u001b[0m\n\u001b[1;32m---> 18\u001b[1;33m df_1st_plot[['Sentiment', 'Confidence']] = df_1st_plot['plot'].swifter.apply(\n\u001b[0m\u001b[0;32m     19\u001b[0m     \u001b[1;32mlambda\u001b[0m \u001b[0mx\u001b[0m\u001b[1;33m:\u001b[0m \u001b[0mpd\u001b[0m\u001b[1;33m.\u001b[0m\u001b[0mSeries\u001b[0m\u001b[1;33m(\u001b[0m\u001b[0mget_one_sentiment_classification\u001b[0m\u001b[1;33m(\u001b[0m\u001b[0mx\u001b[0m\u001b[1;33m)\u001b[0m\u001b[1;33m)\u001b[0m\u001b[1;33m\u001b[0m\u001b[1;33m\u001b[0m\u001b[0m\n\u001b[0;32m     20\u001b[0m )\n",
      "\u001b[1;32mc:\\Users\\theol\\anaconda3\\envs\\ada\\Lib\\site-packages\\swifter\\swifter.py\u001b[0m in \u001b[0;36m?\u001b[1;34m(self, func, convert_dtype, args, **kwds)\u001b[0m\n\u001b[0;32m    316\u001b[0m                 )\n\u001b[0;32m    317\u001b[0m             \u001b[1;32mreturn\u001b[0m \u001b[0mfunc\u001b[0m\u001b[1;33m(\u001b[0m\u001b[0mself\u001b[0m\u001b[1;33m.\u001b[0m\u001b[0m_obj\u001b[0m\u001b[1;33m,\u001b[0m \u001b[1;33m*\u001b[0m\u001b[0margs\u001b[0m\u001b[1;33m,\u001b[0m \u001b[1;33m**\u001b[0m\u001b[0mkwds\u001b[0m\u001b[1;33m)\u001b[0m\u001b[1;33m\u001b[0m\u001b[1;33m\u001b[0m\u001b[0m\n\u001b[0;32m    318\u001b[0m         \u001b[1;32mexcept\u001b[0m \u001b[0mERRORS_TO_HANDLE\u001b[0m\u001b[1;33m:\u001b[0m  \u001b[1;31m# if can't vectorize, estimate time to pandas apply\u001b[0m\u001b[1;33m\u001b[0m\u001b[1;33m\u001b[0m\u001b[0m\n\u001b[0;32m    319\u001b[0m             \u001b[0mwrapped\u001b[0m \u001b[1;33m=\u001b[0m \u001b[0mself\u001b[0m\u001b[1;33m.\u001b[0m\u001b[0m_wrapped_apply\u001b[0m\u001b[1;33m(\u001b[0m\u001b[0mfunc\u001b[0m\u001b[1;33m,\u001b[0m \u001b[0mconvert_dtype\u001b[0m\u001b[1;33m=\u001b[0m\u001b[0mconvert_dtype\u001b[0m\u001b[1;33m,\u001b[0m \u001b[0margs\u001b[0m\u001b[1;33m=\u001b[0m\u001b[0margs\u001b[0m\u001b[1;33m,\u001b[0m \u001b[1;33m**\u001b[0m\u001b[0mkwds\u001b[0m\u001b[1;33m)\u001b[0m\u001b[1;33m\u001b[0m\u001b[1;33m\u001b[0m\u001b[0m\n\u001b[1;32m--> 320\u001b[1;33m             \u001b[0mtimed\u001b[0m \u001b[1;33m=\u001b[0m \u001b[0mtimeit\u001b[0m\u001b[1;33m.\u001b[0m\u001b[0mtimeit\u001b[0m\u001b[1;33m(\u001b[0m\u001b[0mwrapped\u001b[0m\u001b[1;33m,\u001b[0m \u001b[0mnumber\u001b[0m\u001b[1;33m=\u001b[0m\u001b[0mN_REPEATS\u001b[0m\u001b[1;33m)\u001b[0m\u001b[1;33m\u001b[0m\u001b[1;33m\u001b[0m\u001b[0m\n\u001b[0m\u001b[0;32m    321\u001b[0m             \u001b[0msample_proc_est\u001b[0m \u001b[1;33m=\u001b[0m \u001b[0mtimed\u001b[0m \u001b[1;33m/\u001b[0m \u001b[0mN_REPEATS\u001b[0m\u001b[1;33m\u001b[0m\u001b[1;33m\u001b[0m\u001b[0m\n\u001b[0;32m    322\u001b[0m             \u001b[0mest_apply_duration\u001b[0m \u001b[1;33m=\u001b[0m \u001b[0msample_proc_est\u001b[0m \u001b[1;33m/\u001b[0m \u001b[0mself\u001b[0m\u001b[1;33m.\u001b[0m\u001b[0m_SAMPLE_SIZE\u001b[0m \u001b[1;33m*\u001b[0m \u001b[0mself\u001b[0m\u001b[1;33m.\u001b[0m\u001b[0m_nrows\u001b[0m\u001b[1;33m\u001b[0m\u001b[1;33m\u001b[0m\u001b[0m\n\u001b[0;32m    323\u001b[0m \u001b[1;33m\u001b[0m\u001b[0m\n",
      "\u001b[1;32mc:\\Users\\theol\\anaconda3\\envs\\ada\\Lib\\timeit.py\u001b[0m in \u001b[0;36m?\u001b[1;34m(stmt, setup, timer, number, globals)\u001b[0m\n\u001b[0;32m    234\u001b[0m def timeit(stmt=\"pass\", setup=\"pass\", timer=default_timer,\n\u001b[0;32m    235\u001b[0m            number=default_number, globals=None):\n\u001b[0;32m    236\u001b[0m     \u001b[1;34m\"\"\"Convenience function to create Timer object and call timeit method.\"\"\"\u001b[0m\u001b[1;33m\u001b[0m\u001b[1;33m\u001b[0m\u001b[0m\n\u001b[1;32m--> 237\u001b[1;33m     \u001b[1;32mreturn\u001b[0m \u001b[0mTimer\u001b[0m\u001b[1;33m(\u001b[0m\u001b[0mstmt\u001b[0m\u001b[1;33m,\u001b[0m \u001b[0msetup\u001b[0m\u001b[1;33m,\u001b[0m \u001b[0mtimer\u001b[0m\u001b[1;33m,\u001b[0m \u001b[0mglobals\u001b[0m\u001b[1;33m)\u001b[0m\u001b[1;33m.\u001b[0m\u001b[0mtimeit\u001b[0m\u001b[1;33m(\u001b[0m\u001b[0mnumber\u001b[0m\u001b[1;33m)\u001b[0m\u001b[1;33m\u001b[0m\u001b[1;33m\u001b[0m\u001b[0m\n\u001b[0m",
      "\u001b[1;32mc:\\Users\\theol\\anaconda3\\envs\\ada\\Lib\\timeit.py\u001b[0m in \u001b[0;36m?\u001b[1;34m(self, number)\u001b[0m\n\u001b[0;32m    179\u001b[0m         \u001b[1;32mtry\u001b[0m\u001b[1;33m:\u001b[0m\u001b[1;33m\u001b[0m\u001b[1;33m\u001b[0m\u001b[0m\n\u001b[0;32m    180\u001b[0m             \u001b[0mtiming\u001b[0m \u001b[1;33m=\u001b[0m \u001b[0mself\u001b[0m\u001b[1;33m.\u001b[0m\u001b[0minner\u001b[0m\u001b[1;33m(\u001b[0m\u001b[0mit\u001b[0m\u001b[1;33m,\u001b[0m \u001b[0mself\u001b[0m\u001b[1;33m.\u001b[0m\u001b[0mtimer\u001b[0m\u001b[1;33m)\u001b[0m\u001b[1;33m\u001b[0m\u001b[1;33m\u001b[0m\u001b[0m\n\u001b[0;32m    181\u001b[0m         \u001b[1;32mfinally\u001b[0m\u001b[1;33m:\u001b[0m\u001b[1;33m\u001b[0m\u001b[1;33m\u001b[0m\u001b[0m\n\u001b[0;32m    182\u001b[0m             \u001b[1;32mif\u001b[0m \u001b[0mgcold\u001b[0m\u001b[1;33m:\u001b[0m\u001b[1;33m\u001b[0m\u001b[1;33m\u001b[0m\u001b[0m\n\u001b[1;32m--> 183\u001b[1;33m                 \u001b[0mgc\u001b[0m\u001b[1;33m.\u001b[0m\u001b[0menable\u001b[0m\u001b[1;33m(\u001b[0m\u001b[1;33m)\u001b[0m\u001b[1;33m\u001b[0m\u001b[1;33m\u001b[0m\u001b[0m\n\u001b[0m\u001b[0;32m    184\u001b[0m         \u001b[1;32mreturn\u001b[0m \u001b[0mtiming\u001b[0m\u001b[1;33m\u001b[0m\u001b[1;33m\u001b[0m\u001b[0m\n",
      "\u001b[1;32m<timeit-src>\u001b[0m in \u001b[0;36m?\u001b[1;34m(_it, _timer, _stmt)\u001b[0m\n\u001b[0;32m      2\u001b[0m \u001b[1;34m'Could not get source, probably due dynamically evaluated source code.'\u001b[0m\u001b[1;33m\u001b[0m\u001b[1;33m\u001b[0m\u001b[0m\n",
      "\u001b[1;32mc:\\Users\\theol\\anaconda3\\envs\\ada\\Lib\\site-packages\\swifter\\swifter.py\u001b[0m in \u001b[0;36m?\u001b[1;34m()\u001b[0m\n\u001b[0;32m    226\u001b[0m         \u001b[1;32mdef\u001b[0m \u001b[0mwrapped\u001b[0m\u001b[1;33m(\u001b[0m\u001b[1;33m)\u001b[0m\u001b[1;33m:\u001b[0m\u001b[1;33m\u001b[0m\u001b[1;33m\u001b[0m\u001b[0m\n\u001b[0;32m    227\u001b[0m             \u001b[1;32mwith\u001b[0m \u001b[0msuppress_stdout_stderr_logging\u001b[0m\u001b[1;33m(\u001b[0m\u001b[1;33m)\u001b[0m\u001b[1;33m:\u001b[0m\u001b[1;33m\u001b[0m\u001b[1;33m\u001b[0m\u001b[0m\n\u001b[1;32m--> 228\u001b[1;33m                 \u001b[0mself\u001b[0m\u001b[1;33m.\u001b[0m\u001b[0m_obj\u001b[0m\u001b[1;33m.\u001b[0m\u001b[0miloc\u001b[0m\u001b[1;33m[\u001b[0m\u001b[0mself\u001b[0m\u001b[1;33m.\u001b[0m\u001b[0m_SAMPLE_INDEX\u001b[0m\u001b[1;33m]\u001b[0m\u001b[1;33m.\u001b[0m\u001b[0mapply\u001b[0m\u001b[1;33m(\u001b[0m\u001b[0mfunc\u001b[0m\u001b[1;33m,\u001b[0m \u001b[0mconvert_dtype\u001b[0m\u001b[1;33m=\u001b[0m\u001b[0mconvert_dtype\u001b[0m\u001b[1;33m,\u001b[0m \u001b[0margs\u001b[0m\u001b[1;33m=\u001b[0m\u001b[0margs\u001b[0m\u001b[1;33m,\u001b[0m \u001b[1;33m**\u001b[0m\u001b[0mkwds\u001b[0m\u001b[1;33m)\u001b[0m\u001b[1;33m\u001b[0m\u001b[1;33m\u001b[0m\u001b[0m\n\u001b[0m",
      "\u001b[1;32mc:\\Users\\theol\\anaconda3\\envs\\ada\\Lib\\site-packages\\pandas\\core\\series.py\u001b[0m in \u001b[0;36m?\u001b[1;34m(self, func, convert_dtype, args, by_row, **kwargs)\u001b[0m\n\u001b[0;32m   4920\u001b[0m             \u001b[0mconvert_dtype\u001b[0m\u001b[1;33m=\u001b[0m\u001b[0mconvert_dtype\u001b[0m\u001b[1;33m,\u001b[0m\u001b[1;33m\u001b[0m\u001b[1;33m\u001b[0m\u001b[0m\n\u001b[0;32m   4921\u001b[0m             \u001b[0mby_row\u001b[0m\u001b[1;33m=\u001b[0m\u001b[0mby_row\u001b[0m\u001b[1;33m,\u001b[0m\u001b[1;33m\u001b[0m\u001b[1;33m\u001b[0m\u001b[0m\n\u001b[0;32m   4922\u001b[0m             \u001b[0margs\u001b[0m\u001b[1;33m=\u001b[0m\u001b[0margs\u001b[0m\u001b[1;33m,\u001b[0m\u001b[1;33m\u001b[0m\u001b[1;33m\u001b[0m\u001b[0m\n\u001b[0;32m   4923\u001b[0m             \u001b[0mkwargs\u001b[0m\u001b[1;33m=\u001b[0m\u001b[0mkwargs\u001b[0m\u001b[1;33m,\u001b[0m\u001b[1;33m\u001b[0m\u001b[1;33m\u001b[0m\u001b[0m\n\u001b[1;32m-> 4924\u001b[1;33m         ).apply()\n\u001b[0m",
      "\u001b[1;32mc:\\Users\\theol\\anaconda3\\envs\\ada\\Lib\\site-packages\\pandas\\core\\apply.py\u001b[0m in \u001b[0;36m?\u001b[1;34m(self)\u001b[0m\n\u001b[0;32m   1423\u001b[0m         \u001b[1;32mif\u001b[0m \u001b[0mself\u001b[0m\u001b[1;33m.\u001b[0m\u001b[0mby_row\u001b[0m \u001b[1;33m==\u001b[0m \u001b[1;34m\"_compat\"\u001b[0m\u001b[1;33m:\u001b[0m\u001b[1;33m\u001b[0m\u001b[1;33m\u001b[0m\u001b[0m\n\u001b[0;32m   1424\u001b[0m             \u001b[1;32mreturn\u001b[0m \u001b[0mself\u001b[0m\u001b[1;33m.\u001b[0m\u001b[0mapply_compat\u001b[0m\u001b[1;33m(\u001b[0m\u001b[1;33m)\u001b[0m\u001b[1;33m\u001b[0m\u001b[1;33m\u001b[0m\u001b[0m\n\u001b[0;32m   1425\u001b[0m \u001b[1;33m\u001b[0m\u001b[0m\n\u001b[0;32m   1426\u001b[0m         \u001b[1;31m# self.func is Callable\u001b[0m\u001b[1;33m\u001b[0m\u001b[1;33m\u001b[0m\u001b[0m\n\u001b[1;32m-> 1427\u001b[1;33m         \u001b[1;32mreturn\u001b[0m \u001b[0mself\u001b[0m\u001b[1;33m.\u001b[0m\u001b[0mapply_standard\u001b[0m\u001b[1;33m(\u001b[0m\u001b[1;33m)\u001b[0m\u001b[1;33m\u001b[0m\u001b[1;33m\u001b[0m\u001b[0m\n\u001b[0m",
      "\u001b[1;32mc:\\Users\\theol\\anaconda3\\envs\\ada\\Lib\\site-packages\\pandas\\core\\apply.py\u001b[0m in \u001b[0;36m?\u001b[1;34m(self)\u001b[0m\n\u001b[0;32m   1503\u001b[0m         \u001b[1;31m# we need to give `na_action=\"ignore\"` for categorical data.\u001b[0m\u001b[1;33m\u001b[0m\u001b[1;33m\u001b[0m\u001b[0m\n\u001b[0;32m   1504\u001b[0m         \u001b[1;31m# TODO: remove the `na_action=\"ignore\"` when that default has been changed in\u001b[0m\u001b[1;33m\u001b[0m\u001b[1;33m\u001b[0m\u001b[0m\n\u001b[0;32m   1505\u001b[0m         \u001b[1;31m#  Categorical (GH51645).\u001b[0m\u001b[1;33m\u001b[0m\u001b[1;33m\u001b[0m\u001b[0m\n\u001b[0;32m   1506\u001b[0m         \u001b[0maction\u001b[0m \u001b[1;33m=\u001b[0m \u001b[1;34m\"ignore\"\u001b[0m \u001b[1;32mif\u001b[0m \u001b[0misinstance\u001b[0m\u001b[1;33m(\u001b[0m\u001b[0mobj\u001b[0m\u001b[1;33m.\u001b[0m\u001b[0mdtype\u001b[0m\u001b[1;33m,\u001b[0m \u001b[0mCategoricalDtype\u001b[0m\u001b[1;33m)\u001b[0m \u001b[1;32melse\u001b[0m \u001b[1;32mNone\u001b[0m\u001b[1;33m\u001b[0m\u001b[1;33m\u001b[0m\u001b[0m\n\u001b[1;32m-> 1507\u001b[1;33m         mapped = obj._map_values(\n\u001b[0m\u001b[0;32m   1508\u001b[0m             \u001b[0mmapper\u001b[0m\u001b[1;33m=\u001b[0m\u001b[0mcurried\u001b[0m\u001b[1;33m,\u001b[0m \u001b[0mna_action\u001b[0m\u001b[1;33m=\u001b[0m\u001b[0maction\u001b[0m\u001b[1;33m,\u001b[0m \u001b[0mconvert\u001b[0m\u001b[1;33m=\u001b[0m\u001b[0mself\u001b[0m\u001b[1;33m.\u001b[0m\u001b[0mconvert_dtype\u001b[0m\u001b[1;33m\u001b[0m\u001b[1;33m\u001b[0m\u001b[0m\n\u001b[0;32m   1509\u001b[0m         )\n\u001b[0;32m   1510\u001b[0m \u001b[1;33m\u001b[0m\u001b[0m\n",
      "\u001b[1;32mc:\\Users\\theol\\anaconda3\\envs\\ada\\Lib\\site-packages\\pandas\\core\\base.py\u001b[0m in \u001b[0;36m?\u001b[1;34m(self, mapper, na_action, convert)\u001b[0m\n\u001b[0;32m    917\u001b[0m \u001b[1;33m\u001b[0m\u001b[0m\n\u001b[0;32m    918\u001b[0m         \u001b[1;32mif\u001b[0m \u001b[0misinstance\u001b[0m\u001b[1;33m(\u001b[0m\u001b[0marr\u001b[0m\u001b[1;33m,\u001b[0m \u001b[0mExtensionArray\u001b[0m\u001b[1;33m)\u001b[0m\u001b[1;33m:\u001b[0m\u001b[1;33m\u001b[0m\u001b[1;33m\u001b[0m\u001b[0m\n\u001b[0;32m    919\u001b[0m             \u001b[1;32mreturn\u001b[0m \u001b[0marr\u001b[0m\u001b[1;33m.\u001b[0m\u001b[0mmap\u001b[0m\u001b[1;33m(\u001b[0m\u001b[0mmapper\u001b[0m\u001b[1;33m,\u001b[0m \u001b[0mna_action\u001b[0m\u001b[1;33m=\u001b[0m\u001b[0mna_action\u001b[0m\u001b[1;33m)\u001b[0m\u001b[1;33m\u001b[0m\u001b[1;33m\u001b[0m\u001b[0m\n\u001b[0;32m    920\u001b[0m \u001b[1;33m\u001b[0m\u001b[0m\n\u001b[1;32m--> 921\u001b[1;33m         \u001b[1;32mreturn\u001b[0m \u001b[0malgorithms\u001b[0m\u001b[1;33m.\u001b[0m\u001b[0mmap_array\u001b[0m\u001b[1;33m(\u001b[0m\u001b[0marr\u001b[0m\u001b[1;33m,\u001b[0m \u001b[0mmapper\u001b[0m\u001b[1;33m,\u001b[0m \u001b[0mna_action\u001b[0m\u001b[1;33m=\u001b[0m\u001b[0mna_action\u001b[0m\u001b[1;33m,\u001b[0m \u001b[0mconvert\u001b[0m\u001b[1;33m=\u001b[0m\u001b[0mconvert\u001b[0m\u001b[1;33m)\u001b[0m\u001b[1;33m\u001b[0m\u001b[1;33m\u001b[0m\u001b[0m\n\u001b[0m",
      "\u001b[1;32mc:\\Users\\theol\\anaconda3\\envs\\ada\\Lib\\site-packages\\pandas\\core\\algorithms.py\u001b[0m in \u001b[0;36m?\u001b[1;34m(arr, mapper, na_action, convert)\u001b[0m\n\u001b[0;32m   1739\u001b[0m \u001b[1;33m\u001b[0m\u001b[0m\n\u001b[0;32m   1740\u001b[0m     \u001b[1;31m# we must convert to python types\u001b[0m\u001b[1;33m\u001b[0m\u001b[1;33m\u001b[0m\u001b[0m\n\u001b[0;32m   1741\u001b[0m     \u001b[0mvalues\u001b[0m \u001b[1;33m=\u001b[0m \u001b[0marr\u001b[0m\u001b[1;33m.\u001b[0m\u001b[0mastype\u001b[0m\u001b[1;33m(\u001b[0m\u001b[0mobject\u001b[0m\u001b[1;33m,\u001b[0m \u001b[0mcopy\u001b[0m\u001b[1;33m=\u001b[0m\u001b[1;32mFalse\u001b[0m\u001b[1;33m)\u001b[0m\u001b[1;33m\u001b[0m\u001b[1;33m\u001b[0m\u001b[0m\n\u001b[0;32m   1742\u001b[0m     \u001b[1;32mif\u001b[0m \u001b[0mna_action\u001b[0m \u001b[1;32mis\u001b[0m \u001b[1;32mNone\u001b[0m\u001b[1;33m:\u001b[0m\u001b[1;33m\u001b[0m\u001b[1;33m\u001b[0m\u001b[0m\n\u001b[1;32m-> 1743\u001b[1;33m         \u001b[1;32mreturn\u001b[0m \u001b[0mlib\u001b[0m\u001b[1;33m.\u001b[0m\u001b[0mmap_infer\u001b[0m\u001b[1;33m(\u001b[0m\u001b[0mvalues\u001b[0m\u001b[1;33m,\u001b[0m \u001b[0mmapper\u001b[0m\u001b[1;33m,\u001b[0m \u001b[0mconvert\u001b[0m\u001b[1;33m=\u001b[0m\u001b[0mconvert\u001b[0m\u001b[1;33m)\u001b[0m\u001b[1;33m\u001b[0m\u001b[1;33m\u001b[0m\u001b[0m\n\u001b[0m\u001b[0;32m   1744\u001b[0m     \u001b[1;32melse\u001b[0m\u001b[1;33m:\u001b[0m\u001b[1;33m\u001b[0m\u001b[1;33m\u001b[0m\u001b[0m\n\u001b[0;32m   1745\u001b[0m         return lib.map_infer_mask(\n\u001b[0;32m   1746\u001b[0m             \u001b[0mvalues\u001b[0m\u001b[1;33m,\u001b[0m \u001b[0mmapper\u001b[0m\u001b[1;33m,\u001b[0m \u001b[0mmask\u001b[0m\u001b[1;33m=\u001b[0m\u001b[0misna\u001b[0m\u001b[1;33m(\u001b[0m\u001b[0mvalues\u001b[0m\u001b[1;33m)\u001b[0m\u001b[1;33m.\u001b[0m\u001b[0mview\u001b[0m\u001b[1;33m(\u001b[0m\u001b[0mnp\u001b[0m\u001b[1;33m.\u001b[0m\u001b[0muint8\u001b[0m\u001b[1;33m)\u001b[0m\u001b[1;33m,\u001b[0m \u001b[0mconvert\u001b[0m\u001b[1;33m=\u001b[0m\u001b[0mconvert\u001b[0m\u001b[1;33m\u001b[0m\u001b[1;33m\u001b[0m\u001b[0m\n",
      "\u001b[1;32mlib.pyx\u001b[0m in \u001b[0;36m?\u001b[1;34m()\u001b[0m\n\u001b[1;32m-> 2972\u001b[1;33m \u001b[1;34m'Could not get source, probably due dynamically evaluated source code.'\u001b[0m\u001b[1;33m\u001b[0m\u001b[1;33m\u001b[0m\u001b[0m\n\u001b[0m",
      "\u001b[1;32m~\\AppData\\Local\\Temp\\ipykernel_73368\\344620163.py\u001b[0m in \u001b[0;36m?\u001b[1;34m(x)\u001b[0m\n\u001b[1;32m---> 19\u001b[1;33m     \u001b[1;32mlambda\u001b[0m \u001b[0mx\u001b[0m\u001b[1;33m:\u001b[0m \u001b[0mpd\u001b[0m\u001b[1;33m.\u001b[0m\u001b[0mSeries\u001b[0m\u001b[1;33m(\u001b[0m\u001b[0mget_one_sentiment_classification\u001b[0m\u001b[1;33m(\u001b[0m\u001b[0mx\u001b[0m\u001b[1;33m)\u001b[0m\u001b[1;33m)\u001b[0m\u001b[1;33m\u001b[0m\u001b[1;33m\u001b[0m\u001b[0m\n\u001b[0m",
      "\u001b[1;32m~\\AppData\\Local\\Temp\\ipykernel_73368\\344620163.py\u001b[0m in \u001b[0;36m?\u001b[1;34m(text)\u001b[0m\n\u001b[0;32m      3\u001b[0m \u001b[1;32mdef\u001b[0m \u001b[0mget_one_sentiment_classification\u001b[0m\u001b[1;33m(\u001b[0m\u001b[0mtext\u001b[0m\u001b[1;33m)\u001b[0m\u001b[1;33m:\u001b[0m\u001b[1;33m\u001b[0m\u001b[1;33m\u001b[0m\u001b[0m\n\u001b[0;32m      4\u001b[0m     \u001b[0magent\u001b[0m \u001b[1;33m=\u001b[0m \u001b[0mLLMfx\u001b[0m\u001b[1;33m(\u001b[0m\u001b[0mverbose\u001b[0m\u001b[1;33m=\u001b[0m\u001b[1;32mTrue\u001b[0m\u001b[1;33m)\u001b[0m\u001b[1;33m\u001b[0m\u001b[1;33m\u001b[0m\u001b[0m\n\u001b[0;32m      5\u001b[0m     \u001b[0magent\u001b[0m\u001b[1;33m.\u001b[0m\u001b[0mload_tool\u001b[0m\u001b[1;33m(\u001b[0m\u001b[1;34m\"sentiment\"\u001b[0m\u001b[1;33m)\u001b[0m\u001b[1;33m\u001b[0m\u001b[1;33m\u001b[0m\u001b[0m\n\u001b[1;32m----> 6\u001b[1;33m     \u001b[0msentiment\u001b[0m \u001b[1;33m=\u001b[0m \u001b[0magent\u001b[0m\u001b[1;33m.\u001b[0m\u001b[0msentiment\u001b[0m\u001b[1;33m(\u001b[0m\u001b[0mtext\u001b[0m\u001b[1;33m)\u001b[0m\u001b[1;33m\u001b[0m\u001b[1;33m\u001b[0m\u001b[0m\n\u001b[0m\u001b[0;32m      7\u001b[0m \u001b[1;33m\u001b[0m\u001b[0m\n\u001b[0;32m      8\u001b[0m     \u001b[0msentiment_value\u001b[0m \u001b[1;33m=\u001b[0m \u001b[0msentiment\u001b[0m\u001b[1;33m[\u001b[0m\u001b[1;34m\"llm_response\"\u001b[0m\u001b[1;33m]\u001b[0m\u001b[1;33m[\u001b[0m\u001b[1;34m\"sentiment\"\u001b[0m\u001b[1;33m]\u001b[0m\u001b[1;33m\u001b[0m\u001b[1;33m\u001b[0m\u001b[0m\n\u001b[0;32m      9\u001b[0m     \u001b[0mconfidence_level\u001b[0m \u001b[1;33m=\u001b[0m \u001b[0msentiment\u001b[0m\u001b[1;33m[\u001b[0m\u001b[1;34m\"confidence_score\"\u001b[0m\u001b[1;33m]\u001b[0m\u001b[1;33m\u001b[0m\u001b[1;33m\u001b[0m\u001b[0m\n",
      "\u001b[1;32mc:\\Users\\theol\\anaconda3\\envs\\ada\\Lib\\site-packages\\llmware\\agents.py\u001b[0m in \u001b[0;36m?\u001b[1;34m(self, text, params)\u001b[0m\n\u001b[0;32m    696\u001b[0m \u001b[1;33m\u001b[0m\u001b[0m\n\u001b[0;32m    697\u001b[0m         \u001b[1;32mif\u001b[0m \u001b[0misinstance\u001b[0m\u001b[1;33m(\u001b[0m\u001b[0mparams\u001b[0m\u001b[1;33m,\u001b[0m \u001b[0mstr\u001b[0m\u001b[1;33m)\u001b[0m\u001b[1;33m:\u001b[0m\u001b[1;33m\u001b[0m\u001b[1;33m\u001b[0m\u001b[0m\n\u001b[0;32m    698\u001b[0m             \u001b[0mparams\u001b[0m \u001b[1;33m=\u001b[0m \u001b[1;33m[\u001b[0m\u001b[0mparams\u001b[0m\u001b[1;33m]\u001b[0m\u001b[1;33m\u001b[0m\u001b[1;33m\u001b[0m\u001b[0m\n\u001b[0;32m    699\u001b[0m \u001b[1;33m\u001b[0m\u001b[0m\n\u001b[1;32m--> 700\u001b[1;33m         \u001b[1;32mreturn\u001b[0m \u001b[0mself\u001b[0m\u001b[1;33m.\u001b[0m\u001b[0mexec_function_call\u001b[0m\u001b[1;33m(\u001b[0m\u001b[1;34m\"sentiment\"\u001b[0m\u001b[1;33m,\u001b[0m \u001b[0mtext\u001b[0m\u001b[1;33m=\u001b[0m\u001b[0mtext\u001b[0m\u001b[1;33m,\u001b[0m \u001b[0mparams\u001b[0m\u001b[1;33m=\u001b[0m\u001b[0mparams\u001b[0m\u001b[1;33m)\u001b[0m\u001b[1;33m\u001b[0m\u001b[1;33m\u001b[0m\u001b[0m\n\u001b[0m",
      "\u001b[1;32mc:\\Users\\theol\\anaconda3\\envs\\ada\\Lib\\site-packages\\llmware\\agents.py\u001b[0m in \u001b[0;36m?\u001b[1;34m(self, tool_type, text, function, params, get_logits)\u001b[0m\n\u001b[0;32m    558\u001b[0m                     \u001b[0mmodel\u001b[0m \u001b[1;33m=\u001b[0m \u001b[0mself\u001b[0m\u001b[1;33m.\u001b[0m\u001b[0mload_tool\u001b[0m\u001b[1;33m(\u001b[0m\u001b[0mtool_type\u001b[0m\u001b[1;33m)\u001b[0m\u001b[1;33m\u001b[0m\u001b[1;33m\u001b[0m\u001b[0m\n\u001b[0;32m    559\u001b[0m \u001b[1;33m\u001b[0m\u001b[0m\n\u001b[0;32m    560\u001b[0m                 \u001b[0mfunction_call\u001b[0m \u001b[1;33m=\u001b[0m \u001b[0mgetattr\u001b[0m\u001b[1;33m(\u001b[0m\u001b[0mmodel\u001b[0m\u001b[1;33m,\u001b[0m \u001b[1;34m\"function_call\"\u001b[0m\u001b[1;33m)\u001b[0m\u001b[1;33m\u001b[0m\u001b[1;33m\u001b[0m\u001b[0m\n\u001b[0;32m    561\u001b[0m \u001b[1;33m\u001b[0m\u001b[0m\n\u001b[1;32m--> 562\u001b[1;33m                 \u001b[0mresponse\u001b[0m \u001b[1;33m=\u001b[0m \u001b[0mfunction_call\u001b[0m\u001b[1;33m(\u001b[0m\u001b[0mtext\u001b[0m\u001b[1;33m,\u001b[0m \u001b[0mfunction\u001b[0m\u001b[1;33m=\u001b[0m\u001b[0mfunction\u001b[0m\u001b[1;33m,\u001b[0m \u001b[0mparams\u001b[0m\u001b[1;33m=\u001b[0m\u001b[0mparams\u001b[0m\u001b[1;33m,\u001b[0m \u001b[0mget_logits\u001b[0m\u001b[1;33m=\u001b[0m\u001b[0mget_logits\u001b[0m\u001b[1;33m)\u001b[0m\u001b[1;33m\u001b[0m\u001b[1;33m\u001b[0m\u001b[0m\n\u001b[0m\u001b[0;32m    563\u001b[0m \u001b[1;33m\u001b[0m\u001b[0m\n\u001b[0;32m    564\u001b[0m             \u001b[1;32melse\u001b[0m\u001b[1;33m:\u001b[0m\u001b[1;33m\u001b[0m\u001b[1;33m\u001b[0m\u001b[0m\n\u001b[0;32m    565\u001b[0m \u001b[1;33m\u001b[0m\u001b[0m\n",
      "\u001b[1;32mc:\\Users\\theol\\anaconda3\\envs\\ada\\Lib\\site-packages\\llmware\\models.py\u001b[0m in \u001b[0;36m?\u001b[1;34m(self, context, function, params, get_logits, temperature, max_output)\u001b[0m\n\u001b[0;32m   9715\u001b[0m         \u001b[1;32mif\u001b[0m \u001b[0mmax_output\u001b[0m\u001b[1;33m:\u001b[0m\u001b[1;33m\u001b[0m\u001b[1;33m\u001b[0m\u001b[0m\n\u001b[0;32m   9716\u001b[0m             \u001b[0mself\u001b[0m\u001b[1;33m.\u001b[0m\u001b[0mmax_output_len\u001b[0m \u001b[1;33m=\u001b[0m \u001b[0mmax_output\u001b[0m\u001b[1;33m\u001b[0m\u001b[1;33m\u001b[0m\u001b[0m\n\u001b[0;32m   9717\u001b[0m \u001b[1;33m\u001b[0m\u001b[0m\n\u001b[0;32m   9718\u001b[0m         \u001b[1;31m# call inference here\u001b[0m\u001b[1;33m\u001b[0m\u001b[1;33m\u001b[0m\u001b[0m\n\u001b[1;32m-> 9719\u001b[1;33m         \u001b[0moutput_response\u001b[0m \u001b[1;33m=\u001b[0m \u001b[0mself\u001b[0m\u001b[1;33m.\u001b[0m\u001b[0m_inference\u001b[0m\u001b[1;33m(\u001b[0m\u001b[0mtext_prompt\u001b[0m\u001b[1;33m)\u001b[0m\u001b[1;33m\u001b[0m\u001b[1;33m\u001b[0m\u001b[0m\n\u001b[0m\u001b[0;32m   9720\u001b[0m \u001b[1;33m\u001b[0m\u001b[0m\n\u001b[0;32m   9721\u001b[0m         \u001b[0moutput_str\u001b[0m \u001b[1;33m=\u001b[0m \u001b[0moutput_response\u001b[0m\u001b[1;33m[\u001b[0m\u001b[1;34m\"llm_response\"\u001b[0m\u001b[1;33m]\u001b[0m\u001b[1;33m\u001b[0m\u001b[1;33m\u001b[0m\u001b[0m\n\u001b[0;32m   9722\u001b[0m \u001b[1;33m\u001b[0m\u001b[0m\n",
      "\u001b[1;32mc:\\Users\\theol\\anaconda3\\envs\\ada\\Lib\\site-packages\\llmware\\models.py\u001b[0m in \u001b[0;36m?\u001b[1;34m(self, prompt)\u001b[0m\n\u001b[0;32m   9075\u001b[0m         \u001b[0mtoken_counter\u001b[0m \u001b[1;33m=\u001b[0m \u001b[1;36m0\u001b[0m\u001b[1;33m\u001b[0m\u001b[1;33m\u001b[0m\u001b[0m\n\u001b[0;32m   9076\u001b[0m         \u001b[0mt_gen_start\u001b[0m \u001b[1;33m=\u001b[0m \u001b[0mtime\u001b[0m\u001b[1;33m.\u001b[0m\u001b[0mtime\u001b[0m\u001b[1;33m(\u001b[0m\u001b[1;33m)\u001b[0m\u001b[1;33m\u001b[0m\u001b[1;33m\u001b[0m\u001b[0m\n\u001b[0;32m   9077\u001b[0m         \u001b[0mfirst_token_processing_time\u001b[0m \u001b[1;33m=\u001b[0m \u001b[1;33m-\u001b[0m\u001b[1;36m1.0\u001b[0m\u001b[1;33m\u001b[0m\u001b[1;33m\u001b[0m\u001b[0m\n\u001b[0;32m   9078\u001b[0m \u001b[1;33m\u001b[0m\u001b[0m\n\u001b[1;32m-> 9079\u001b[1;33m         \u001b[1;32mfor\u001b[0m \u001b[0mtoken\u001b[0m \u001b[1;32min\u001b[0m \u001b[0mself\u001b[0m\u001b[1;33m.\u001b[0m\u001b[0mgenerate\u001b[0m\u001b[1;33m(\u001b[0m\u001b[0mprompt_tokens\u001b[0m\u001b[1;33m)\u001b[0m\u001b[1;33m:\u001b[0m\u001b[1;33m\u001b[0m\u001b[1;33m\u001b[0m\u001b[0m\n\u001b[0m\u001b[0;32m   9080\u001b[0m \u001b[1;33m\u001b[0m\u001b[0m\n\u001b[0;32m   9081\u001b[0m             \u001b[1;31m# first token capture\u001b[0m\u001b[1;33m\u001b[0m\u001b[1;33m\u001b[0m\u001b[0m\n\u001b[0;32m   9082\u001b[0m             \u001b[1;32mif\u001b[0m \u001b[0mget_first_token_speed\u001b[0m\u001b[1;33m:\u001b[0m\u001b[1;33m\u001b[0m\u001b[1;33m\u001b[0m\u001b[0m\n",
      "\u001b[1;32mc:\\Users\\theol\\anaconda3\\envs\\ada\\Lib\\site-packages\\llmware\\models.py\u001b[0m in \u001b[0;36m?\u001b[1;34m(self, tokens, reset)\u001b[0m\n\u001b[0;32m   9172\u001b[0m                 \u001b[0mn_tokens\u001b[0m \u001b[1;33m=\u001b[0m \u001b[0mlen\u001b[0m\u001b[1;33m(\u001b[0m\u001b[0mbatch\u001b[0m\u001b[1;33m)\u001b[0m\u001b[1;33m\u001b[0m\u001b[1;33m\u001b[0m\u001b[0m\n\u001b[0;32m   9173\u001b[0m \u001b[1;33m\u001b[0m\u001b[0m\n\u001b[0;32m   9174\u001b[0m                 \u001b[0mself\u001b[0m\u001b[1;33m.\u001b[0m\u001b[0m_batch\u001b[0m\u001b[1;33m.\u001b[0m\u001b[0mset_batch\u001b[0m\u001b[1;33m(\u001b[0m\u001b[0mbatch\u001b[0m\u001b[1;33m=\u001b[0m\u001b[0mbatch\u001b[0m\u001b[1;33m,\u001b[0m \u001b[0mn_past\u001b[0m\u001b[1;33m=\u001b[0m\u001b[0mn_past\u001b[0m\u001b[1;33m,\u001b[0m \u001b[0mlogits_all\u001b[0m\u001b[1;33m=\u001b[0m\u001b[0mself\u001b[0m\u001b[1;33m.\u001b[0m\u001b[0mcontext_params\u001b[0m\u001b[1;33m.\u001b[0m\u001b[0mlogits_all\u001b[0m\u001b[1;33m)\u001b[0m\u001b[1;33m\u001b[0m\u001b[1;33m\u001b[0m\u001b[0m\n\u001b[0;32m   9175\u001b[0m \u001b[1;33m\u001b[0m\u001b[0m\n\u001b[1;32m-> 9176\u001b[1;33m                 \u001b[0mreturn_code\u001b[0m \u001b[1;33m=\u001b[0m \u001b[0mself\u001b[0m\u001b[1;33m.\u001b[0m\u001b[0m_lib\u001b[0m\u001b[1;33m.\u001b[0m\u001b[0mllama_decode\u001b[0m\u001b[1;33m(\u001b[0m\u001b[0mself\u001b[0m\u001b[1;33m.\u001b[0m\u001b[0m_ctx\u001b[0m\u001b[1;33m.\u001b[0m\u001b[0mctx\u001b[0m\u001b[1;33m,\u001b[0m \u001b[0mself\u001b[0m\u001b[1;33m.\u001b[0m\u001b[0m_batch\u001b[0m\u001b[1;33m.\u001b[0m\u001b[0mbatch\u001b[0m\u001b[1;33m)\u001b[0m\u001b[1;33m\u001b[0m\u001b[1;33m\u001b[0m\u001b[0m\n\u001b[0m\u001b[0;32m   9177\u001b[0m \u001b[1;33m\u001b[0m\u001b[0m\n\u001b[0;32m   9178\u001b[0m                 \u001b[1;31m#TODO: add better error handling if return_code 1 - usually overflow of ctx\u001b[0m\u001b[1;33m\u001b[0m\u001b[1;33m\u001b[0m\u001b[0m\n\u001b[0;32m   9179\u001b[0m                 \u001b[1;32mif\u001b[0m \u001b[0mreturn_code\u001b[0m \u001b[1;33m!=\u001b[0m \u001b[1;36m0\u001b[0m\u001b[1;33m:\u001b[0m\u001b[1;33m\u001b[0m\u001b[1;33m\u001b[0m\u001b[0m\n",
      "\u001b[1;31mKeyboardInterrupt\u001b[0m: "
     ]
    }
   ],
   "source": [
    "from llmware.agents import LLMfx\n",
    "\n",
    "def get_one_sentiment_classification(text):\n",
    "    agent = LLMfx(verbose=True)\n",
    "    agent.load_tool(\"sentiment\")\n",
    "    sentiment = agent.sentiment(text)\n",
    "    \n",
    "    sentiment_value = sentiment[\"llm_response\"][\"sentiment\"]\n",
    "    confidence_level = sentiment[\"confidence_score\"]\n",
    "    \n",
    "    print(\"Plot:\", text)\n",
    "    print(\"Sentiment:\", sentiment_value)\n",
    "    print(\"Confidence level\", confidence_level)\n",
    "    \n",
    "    return sentiment_value, confidence_level\n",
    "\n",
    "# Application of the analysis on the plots\n",
    "df_1st_plot[['Sentiment', 'Confidence']] = df_1st_plot['plot'].swifter.apply(\n",
    "    lambda x: pd.Series(get_one_sentiment_classification(x))\n",
    ")\n"
   ]
  },
  {
   "cell_type": "markdown",
   "metadata": {},
   "source": [
    "The computation of the sentiment analysis for the first 5 plots of the dataset takes 2min34s. We linearize this values using the number of words in the 5 plots and the number of words in all the comedy plots : "
   ]
  },
  {
   "cell_type": "code",
   "execution_count": 14,
   "metadata": {},
   "outputs": [
    {
     "name": "stdout",
     "output_type": "stream",
     "text": [
      "Linear estimation of the computation time for all the comedy plot summaries: 2.8842083242377936 days\n"
     ]
    }
   ],
   "source": [
    "df_merge_IDs = pd.merge(df_box_office, df_plot, on='wikipedia_id', how='inner')\n",
    "\n",
    "time = 154\n",
    "words = ' '.join(df_1st_plot[\"plot\"]).split()\n",
    "words_comedy = ' '.join(df_merge_IDs[\"plot\"]).split()\n",
    "computation_time = ((len(words_comedy)/len(words))*time)/(24*3600)\n",
    "print(f\"Linear estimation of the computation time for all the comedy plot summaries: {computation_time} days\")\n"
   ]
  },
  {
   "cell_type": "markdown",
   "metadata": {},
   "source": [
    "We have a computation time of about 3 days which is quite long, this computation time can probably be optimized later. This part of the code only has to be ran once, the results would be saved."
   ]
  },
  {
   "cell_type": "markdown",
   "metadata": {},
   "source": [
    "### IV. Cultural differences"
   ]
  },
  {
   "cell_type": "code",
   "execution_count": null,
   "metadata": {},
   "outputs": [
    {
     "name": "stdout",
     "output_type": "stream",
     "text": [
      "Preprocessing CMU dataset...\n"
     ]
    },
    {
     "data": {
      "application/vnd.jupyter.widget-view+json": {
       "model_id": "614a3043bac94dd8a19a1eb9ad0c5d1f",
       "version_major": 2,
       "version_minor": 0
      },
      "text/plain": [
       "Pandas Apply:   0%|          | 0/81741 [00:00<?, ?it/s]"
      ]
     },
     "metadata": {},
     "output_type": "display_data"
    },
    {
     "data": {
      "application/vnd.jupyter.widget-view+json": {
       "model_id": "22f09a80c37d4ab0b50f4ee8fe42164b",
       "version_major": 2,
       "version_minor": 0
      },
      "text/plain": [
       "Pandas Apply:   0%|          | 0/81741 [00:00<?, ?it/s]"
      ]
     },
     "metadata": {},
     "output_type": "display_data"
    },
    {
     "data": {
      "application/vnd.jupyter.widget-view+json": {
       "model_id": "81a00c176f45414ab36f632f6e9c935d",
       "version_major": 2,
       "version_minor": 0
      },
      "text/plain": [
       "Pandas Apply:   0%|          | 0/81741 [00:00<?, ?it/s]"
      ]
     },
     "metadata": {},
     "output_type": "display_data"
    },
    {
     "data": {
      "application/vnd.jupyter.widget-view+json": {
       "model_id": "5d7022d0bf7a4b258c2d1730879ed10d",
       "version_major": 2,
       "version_minor": 0
      },
      "text/plain": [
       "Pandas Apply:   0%|          | 0/81741 [00:00<?, ?it/s]"
      ]
     },
     "metadata": {},
     "output_type": "display_data"
    },
    {
     "name": "stdout",
     "output_type": "stream",
     "text": [
      "Preprocessed CMU dataset!\n"
     ]
    }
   ],
   "source": [
    "print(f\"Preprocessing CMU dataset...\")\n",
    "cmu_cleaned_movies = prepro_cmu_movies(CMU_MOVIES_DS.df)\n",
    "print(f\"Preprocessed CMU dataset!\")"
   ]
  },
  {
   "cell_type": "code",
   "execution_count": null,
   "metadata": {},
   "outputs": [],
   "source": [
    "total_movies_per_year = cmu_cleaned_movies.groupby('release_date').size().reset_index(name='movie_count')\n",
    "def get_comedies_mask(df):\n",
    "    # Returns the (boolean) comedy mask for the given df\n",
    "    # The `df` has to be of similar format as `prepro_cmu_movies(CMU_MOVIES_DS.df)`\n",
    "    return df[\"genres\"].apply(lambda genre_list: \"Comedy\" in genre_list or \"comedy\" in genre_list)\n",
    "cmu_comedies = cmu_cleaned_movies[get_comedies_mask(cmu_cleaned_movies)]\n",
    "comedy_count_by_year = cmu_comedies.groupby('release_date').size().reset_index(name='comedy_count')\n",
    "\n",
    "movies_per_year = pd.merge(total_movies_per_year, comedy_count_by_year, on='release_date', how='left')\n",
    "movies_per_year['comedy_count'] = movies_per_year['comedy_count'].fillna(0)\n",
    "\n",
    "movies_per_year['comedy_proportion'] = movies_per_year['comedy_count'] / movies_per_year['movie_count']\n",
    "\n",
    "movies_per_year = movies_per_year[movies_per_year['release_date'] >= 1900]\n"
   ]
  },
  {
   "cell_type": "code",
   "execution_count": null,
   "metadata": {},
   "outputs": [
    {
     "data": {
      "image/png": "[encoded data removed]",
      "text/plain": [
       "<Figure size 1200x600 with 1 Axes>"
      ]
     },
     "metadata": {},
     "output_type": "display_data"
    },
    {
     "data": {
      "image/png": "[encoded data removed]",
      "text/plain": [
       "<Figure size 1200x600 with 1 Axes>"
      ]
     },
     "metadata": {},
     "output_type": "display_data"
    }
   ],
   "source": [
    "plt.figure(figsize=(12, 6))\n",
    "plt.plot(movies_per_year['release_date'], movies_per_year['comedy_proportion'], marker='o', color='orange', linestyle='-')\n",
    "plt.title('Proportion of comedy movies released each year')\n",
    "plt.xlabel('Year')\n",
    "plt.ylabel('Proportion of comedy movies')\n",
    "plt.xlim(movies_per_year['release_date'].min(), movies_per_year['release_date'].max())\n",
    "\n",
    "plt.figure(figsize=(12, 6))\n",
    "plt.plot(comedy_count_by_year['release_date'], comedy_count_by_year['comedy_count'], marker='o', color='orange', linestyle='-')\n",
    "plt.title('Number of comedy movies released each year')\n",
    "plt.xlabel('Year')\n",
    "plt.ylabel('Number of comedy movies')\n",
    "\n",
    "plt.show()"
   ]
  },
  {
   "cell_type": "code",
   "execution_count": null,
   "metadata": {},
   "outputs": [
    {
     "data": {
      "text/html": [
       "<div>\n",
       "<style scoped>\n",
       "    .dataframe tbody tr th:only-of-type {\n",
       "        vertical-align: middle;\n",
       "    }\n",
       "\n",
       "    .dataframe tbody tr th {\n",
       "        vertical-align: top;\n",
       "    }\n",
       "\n",
       "    .dataframe thead th {\n",
       "        text-align: right;\n",
       "    }\n",
       "</style>\n",
       "<table border=\"1\" class=\"dataframe\">\n",
       "  <thead>\n",
       "    <tr style=\"text-align: right;\">\n",
       "      <th></th>\n",
       "      <th>release_date</th>\n",
       "      <th>movie_count</th>\n",
       "    </tr>\n",
       "  </thead>\n",
       "  <tbody>\n",
       "    <tr>\n",
       "      <th>0</th>\n",
       "      <td>1010.0</td>\n",
       "      <td>1</td>\n",
       "    </tr>\n",
       "    <tr>\n",
       "      <th>1</th>\n",
       "      <td>1888.0</td>\n",
       "      <td>1</td>\n",
       "    </tr>\n",
       "    <tr>\n",
       "      <th>2</th>\n",
       "      <td>1889.0</td>\n",
       "      <td>1</td>\n",
       "    </tr>\n",
       "    <tr>\n",
       "      <th>3</th>\n",
       "      <td>1890.0</td>\n",
       "      <td>2</td>\n",
       "    </tr>\n",
       "    <tr>\n",
       "      <th>4</th>\n",
       "      <td>1891.0</td>\n",
       "      <td>3</td>\n",
       "    </tr>\n",
       "  </tbody>\n",
       "</table>\n",
       "</div>"
      ],
      "text/plain": [
       "   release_date  movie_count\n",
       "0        1010.0            1\n",
       "1        1888.0            1\n",
       "2        1889.0            1\n",
       "3        1890.0            2\n",
       "4        1891.0            3"
      ]
     },
     "execution_count": 53,
     "metadata": {},
     "output_type": "execute_result"
    }
   ],
   "source": [
    "total_movies_per_year.head()"
   ]
  },
  {
   "cell_type": "code",
   "execution_count": null,
   "metadata": {},
   "outputs": [
    {
     "name": "stdout",
     "output_type": "stream",
     "text": [
      "           countries  total_movies  comedy_movies\n",
      "0        Afghanistan            15              0\n",
      "1            Albania            28              2\n",
      "2            Algeria            43              1\n",
      "3          Argentina          1468            268\n",
      "4            Armenia            16              3\n",
      "..               ...           ...            ...\n",
      "142  Weimar Republic            68              7\n",
      "143     West Germany           647             93\n",
      "144       Yugoslavia           306             41\n",
      "145           Zambia             3              0\n",
      "146         Zimbabwe             8              2\n",
      "\n",
      "[147 rows x 3 columns]\n"
     ]
    }
   ],
   "source": [
    "comedies_exploded_countries = cmu_cleaned_movies.explode(column=\"countries\",ignore_index=True)\n",
    "comedies_exploded_countries[\"is_comedy\"] = get_comedies_mask(comedies_exploded_countries)\n",
    "country_movie_counts = comedies_exploded_countries.groupby('countries').agg(\n",
    "    total_movies=('countries', 'size'),\n",
    "    comedy_movies=('is_comedy', 'sum')\n",
    ").reset_index()\n",
    "\n",
    "print(country_movie_counts)"
   ]
  },
  {
   "cell_type": "code",
   "execution_count": null,
   "metadata": {},
   "outputs": [
    {
     "data": {
      "text/html": [
       "<div>\n",
       "<style scoped>\n",
       "    .dataframe tbody tr th:only-of-type {\n",
       "        vertical-align: middle;\n",
       "    }\n",
       "\n",
       "    .dataframe tbody tr th {\n",
       "        vertical-align: top;\n",
       "    }\n",
       "\n",
       "    .dataframe thead th {\n",
       "        text-align: right;\n",
       "    }\n",
       "</style>\n",
       "<table border=\"1\" class=\"dataframe\">\n",
       "  <thead>\n",
       "    <tr style=\"text-align: right;\">\n",
       "      <th></th>\n",
       "      <th>wikipedia_id</th>\n",
       "      <th>freebase_id</th>\n",
       "      <th>title</th>\n",
       "      <th>release_date</th>\n",
       "      <th>box_office_revenue</th>\n",
       "      <th>runtime</th>\n",
       "      <th>languages</th>\n",
       "      <th>countries</th>\n",
       "      <th>genres</th>\n",
       "      <th>is_comedy</th>\n",
       "    </tr>\n",
       "  </thead>\n",
       "  <tbody>\n",
       "    <tr>\n",
       "      <th>0</th>\n",
       "      <td>975900</td>\n",
       "      <td>/m/03vyhn</td>\n",
       "      <td>Ghosts of Mars</td>\n",
       "      <td>2001.0</td>\n",
       "      <td>14010832.0</td>\n",
       "      <td>98.0</td>\n",
       "      <td>[English Language]</td>\n",
       "      <td>United States of America</td>\n",
       "      <td>[Thriller, Science Fiction, Horror, Adventure,...</td>\n",
       "      <td>False</td>\n",
       "    </tr>\n",
       "    <tr>\n",
       "      <th>1</th>\n",
       "      <td>3196793</td>\n",
       "      <td>/m/08yl5d</td>\n",
       "      <td>Getting Away with Murder: The JonBenét Ramsey ...</td>\n",
       "      <td>2000.0</td>\n",
       "      <td>NaN</td>\n",
       "      <td>95.0</td>\n",
       "      <td>[English Language]</td>\n",
       "      <td>United States of America</td>\n",
       "      <td>[Mystery, Biographical film, Drama, Crime Drama]</td>\n",
       "      <td>False</td>\n",
       "    </tr>\n",
       "    <tr>\n",
       "      <th>2</th>\n",
       "      <td>28463795</td>\n",
       "      <td>/m/0crgdbh</td>\n",
       "      <td>Brun bitter</td>\n",
       "      <td>1988.0</td>\n",
       "      <td>NaN</td>\n",
       "      <td>83.0</td>\n",
       "      <td>[Norwegian Language]</td>\n",
       "      <td>Norway</td>\n",
       "      <td>[Crime Fiction, Drama]</td>\n",
       "      <td>False</td>\n",
       "    </tr>\n",
       "    <tr>\n",
       "      <th>3</th>\n",
       "      <td>9363483</td>\n",
       "      <td>/m/0285_cd</td>\n",
       "      <td>White Of The Eye</td>\n",
       "      <td>1987.0</td>\n",
       "      <td>NaN</td>\n",
       "      <td>110.0</td>\n",
       "      <td>[English Language]</td>\n",
       "      <td>United Kingdom</td>\n",
       "      <td>[Thriller, Erotic thriller, Psychological thri...</td>\n",
       "      <td>False</td>\n",
       "    </tr>\n",
       "    <tr>\n",
       "      <th>4</th>\n",
       "      <td>261236</td>\n",
       "      <td>/m/01mrr1</td>\n",
       "      <td>A Woman in Flames</td>\n",
       "      <td>1983.0</td>\n",
       "      <td>NaN</td>\n",
       "      <td>106.0</td>\n",
       "      <td>[German Language]</td>\n",
       "      <td>Germany</td>\n",
       "      <td>[Drama]</td>\n",
       "      <td>False</td>\n",
       "    </tr>\n",
       "  </tbody>\n",
       "</table>\n",
       "</div>"
      ],
      "text/plain": [
       "   wikipedia_id freebase_id  \\\n",
       "0        975900   /m/03vyhn   \n",
       "1       3196793   /m/08yl5d   \n",
       "2      28463795  /m/0crgdbh   \n",
       "3       9363483  /m/0285_cd   \n",
       "4        261236   /m/01mrr1   \n",
       "\n",
       "                                               title  release_date  \\\n",
       "0                                     Ghosts of Mars        2001.0   \n",
       "1  Getting Away with Murder: The JonBenét Ramsey ...        2000.0   \n",
       "2                                        Brun bitter        1988.0   \n",
       "3                                   White Of The Eye        1987.0   \n",
       "4                                  A Woman in Flames        1983.0   \n",
       "\n",
       "   box_office_revenue  runtime             languages  \\\n",
       "0          14010832.0     98.0    [English Language]   \n",
       "1                 NaN     95.0    [English Language]   \n",
       "2                 NaN     83.0  [Norwegian Language]   \n",
       "3                 NaN    110.0    [English Language]   \n",
       "4                 NaN    106.0     [German Language]   \n",
       "\n",
       "                  countries  \\\n",
       "0  United States of America   \n",
       "1  United States of America   \n",
       "2                    Norway   \n",
       "3            United Kingdom   \n",
       "4                   Germany   \n",
       "\n",
       "                                              genres  is_comedy  \n",
       "0  [Thriller, Science Fiction, Horror, Adventure,...      False  \n",
       "1   [Mystery, Biographical film, Drama, Crime Drama]      False  \n",
       "2                             [Crime Fiction, Drama]      False  \n",
       "3  [Thriller, Erotic thriller, Psychological thri...      False  \n",
       "4                                            [Drama]      False  "
      ]
     },
     "execution_count": 49,
     "metadata": {},
     "output_type": "execute_result"
    }
   ],
   "source": [
    "comedies_exploded_countries.head(5)"
   ]
  }
 ],
 "metadata": {
  "kernelspec": {
   "display_name": "ada",
   "language": "python",
   "name": "python3"
  },
  "language_info": {
   "codemirror_mode": {
    "name": "ipython",
    "version": 3
   },
   "file_extension": ".py",
   "mimetype": "text/x-python",
   "name": "python",
   "nbconvert_exporter": "python",
   "pygments_lexer": "ipython3",
   "version": "3.11.9"
  }
 },
 "nbformat": 4,
 "nbformat_minor": 2
}
